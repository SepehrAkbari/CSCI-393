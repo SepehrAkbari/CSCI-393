{
 "cells": [
  {
   "cell_type": "code",
   "execution_count": 1,
   "metadata": {},
   "outputs": [],
   "source": [
    "import pandas as pd\n",
    "import numpy as np\n",
    "from sklearn.model_selection import train_test_split\n",
    "from sklearn.linear_model import LogisticRegression\n",
    "from sklearn.metrics import accuracy_score, precision_score, recall_score, roc_auc_score, roc_curve, classification_report, f1_score, confusion_matrix\n",
    "import matplotlib.pyplot as plt"
   ]
  },
  {
   "cell_type": "code",
   "execution_count": 2,
   "metadata": {},
   "outputs": [
    {
     "data": {
      "application/vnd.microsoft.datawrangler.viewer.v0+json": {
       "columns": [
        {
         "name": "index",
         "rawType": "int64",
         "type": "integer"
        },
        {
         "name": "index",
         "rawType": "int64",
         "type": "integer"
        },
        {
         "name": "sequence_label",
         "rawType": "object",
         "type": "string"
        },
        {
         "name": "source",
         "rawType": "object",
         "type": "string"
        },
        {
         "name": "generator",
         "rawType": "object",
         "type": "string"
        },
        {
         "name": "chisqr_p",
         "rawType": "float64",
         "type": "float"
        },
        {
         "name": "chisqr_X2.X-squared",
         "rawType": "float64",
         "type": "float"
        },
        {
         "name": "chisqr_df.df",
         "rawType": "int64",
         "type": "integer"
        },
        {
         "name": "ks_p",
         "rawType": "float64",
         "type": "float"
        },
        {
         "name": "ks_D.D",
         "rawType": "float64",
         "type": "float"
        },
        {
         "name": "freq_p",
         "rawType": "float64",
         "type": "float"
        },
        {
         "name": "freq_X2.X-squared",
         "rawType": "float64",
         "type": "float"
        },
        {
         "name": "freq_df.df",
         "rawType": "int64",
         "type": "integer"
        },
        {
         "name": "eqdist_empiricalMean",
         "rawType": "float64",
         "type": "float"
        },
        {
         "name": "eqdist_diff",
         "rawType": "float64",
         "type": "float"
        },
        {
         "name": "gap_p",
         "rawType": "float64",
         "type": "float"
        },
        {
         "name": "gap_X2.X-squared",
         "rawType": "float64",
         "type": "float"
        },
        {
         "name": "gap_df.df",
         "rawType": "int64",
         "type": "integer"
        },
        {
         "name": "serial_autocorrelation",
         "rawType": "float64",
         "type": "float"
        },
        {
         "name": "perm_observed_stat",
         "rawType": "float64",
         "type": "float"
        },
        {
         "name": "perm_p",
         "rawType": "float64",
         "type": "float"
        },
        {
         "name": "entropy_val",
         "rawType": "float64",
         "type": "float"
        },
        {
         "name": "fft_dominant_frequency",
         "rawType": "float64",
         "type": "float"
        },
        {
         "name": "fft_dominant_period",
         "rawType": "float64",
         "type": "float"
        },
        {
         "name": "fft_max_magnitude",
         "rawType": "float64",
         "type": "float"
        },
        {
         "name": "uniformity_score",
         "rawType": "float64",
         "type": "float"
        },
        {
         "name": "patterns_score",
         "rawType": "float64",
         "type": "float"
        },
        {
         "name": "periodicity_score",
         "rawType": "float64",
         "type": "float"
        },
        {
         "name": "randomness_score",
         "rawType": "float64",
         "type": "float"
        }
       ],
       "conversionMethod": "pd.DataFrame",
       "ref": "d4fa0d1e-aea1-4390-8501-83d217937249",
       "rows": [
        [
         "0",
         "1",
         "randoms-1",
         "QRNG",
         "IBM Qiskit (Single-Qubit)",
         "4.52309202120639e-06",
         "41.24",
         "9",
         "4.01514172449902e-05",
         "0.104",
         "4.52309202120639e-06",
         "41.24",
         "9",
         "0.4854",
         "0.0146",
         "5.97398345713606e-108",
         "634.069387755102",
         "40",
         "0.0623389164301799",
         "4.854",
         "1.0",
         "3.27121528191636",
         "0.096",
         "10.4166666666667",
         "175.438883561187",
         "0.8182628816748017",
         "0.8625992667715507",
         "0.3364936256582806",
         "0.6724519247015444"
        ],
        [
         "1",
         "2",
         "randoms-10",
         "QRNG",
         "IBM Qiskit (Single-Qubit)",
         "1.04273609815309e-05",
         "39.24",
         "9",
         "0.0001988712714996",
         "0.096",
         "1.04273609815309e-05",
         "39.24",
         "9",
         "0.505",
         "0.005",
         "6.61227867075976e-138",
         "789.232653061224",
         "43",
         "-0.0423221417763274",
         "5.05",
         "1.0",
         "3.27246199628308",
         "0.338",
         "2.9585798816568",
         "181.936265616827",
         "0.7646180248870217",
         "0.6553281132603279",
         "0.3441716267129975",
         "0.588039254953449"
        ],
        [
         "2",
         "3",
         "randoms-100",
         "PRNG",
         "Linear Congruential Generator (LCG)",
         "0.989424581868437",
         "2.12",
         "9",
         "9.07998595249615e-05",
         "0.1",
         "0.989424581868437",
         "2.12",
         "9",
         "0.510222222222222",
         "0.0102222222222222",
         "3.3768714964436203e-161",
         "825.6",
         "21",
         "-0.0650122839465384",
         "5.592",
         "1.0",
         "3.31886752770939",
         "0.5",
         "2.0",
         "196.0",
         "0.2946794165004829",
         "0.6103924703235468",
         "0.1347826086956521",
         "0.3466181651732272"
        ],
        [
         "3",
         "4",
         "randoms-101",
         "PRNG",
         "XORShift",
         "0.33768835649024",
         "10.16",
         "9",
         "4.20066493879215e-07",
         "0.124",
         "0.33768835649024",
         "10.16",
         "9",
         "0.475777777777778",
         "0.0242222222222223",
         "4.409093366756219e-129",
         "746.310204081633",
         "43",
         "0.0597024859365902",
         "5.282",
         "1.0",
         "3.30720794157676",
         "0.054",
         "18.5185185185185",
         "162.277093355671",
         "0.6965712779036968",
         "0.8573780699011705",
         "0.1217634988117835",
         "0.5585709488722169"
        ],
        [
         "4",
         "5",
         "randoms-102",
         "PRNG",
         "XORShift",
         "0.0401082797659396",
         "17.6",
         "9",
         "1.24001921358892e-06",
         "0.119555555555556",
         "0.0401082797659396",
         "17.6",
         "9",
         "0.527555555555556",
         "0.0275555555555556",
         "4.211259808467692e-112",
         "657.371428571429",
         "41",
         "0.0137324333932998",
         "5.748",
         "1.0",
         "3.29701646443168",
         "0.338",
         "2.9585798816568",
         "187.311276870453",
         "0.863322799907249",
         "0.7663388048593529",
         "0.228885622590894",
         "0.6195157424524986"
        ]
       ],
       "shape": {
        "columns": 28,
        "rows": 5
       }
      },
      "text/html": [
       "<div>\n",
       "<style scoped>\n",
       "    .dataframe tbody tr th:only-of-type {\n",
       "        vertical-align: middle;\n",
       "    }\n",
       "\n",
       "    .dataframe tbody tr th {\n",
       "        vertical-align: top;\n",
       "    }\n",
       "\n",
       "    .dataframe thead th {\n",
       "        text-align: right;\n",
       "    }\n",
       "</style>\n",
       "<table border=\"1\" class=\"dataframe\">\n",
       "  <thead>\n",
       "    <tr style=\"text-align: right;\">\n",
       "      <th></th>\n",
       "      <th>index</th>\n",
       "      <th>sequence_label</th>\n",
       "      <th>source</th>\n",
       "      <th>generator</th>\n",
       "      <th>chisqr_p</th>\n",
       "      <th>chisqr_X2.X-squared</th>\n",
       "      <th>chisqr_df.df</th>\n",
       "      <th>ks_p</th>\n",
       "      <th>ks_D.D</th>\n",
       "      <th>freq_p</th>\n",
       "      <th>...</th>\n",
       "      <th>perm_observed_stat</th>\n",
       "      <th>perm_p</th>\n",
       "      <th>entropy_val</th>\n",
       "      <th>fft_dominant_frequency</th>\n",
       "      <th>fft_dominant_period</th>\n",
       "      <th>fft_max_magnitude</th>\n",
       "      <th>uniformity_score</th>\n",
       "      <th>patterns_score</th>\n",
       "      <th>periodicity_score</th>\n",
       "      <th>randomness_score</th>\n",
       "    </tr>\n",
       "  </thead>\n",
       "  <tbody>\n",
       "    <tr>\n",
       "      <th>0</th>\n",
       "      <td>1</td>\n",
       "      <td>randoms-1</td>\n",
       "      <td>QRNG</td>\n",
       "      <td>IBM Qiskit (Single-Qubit)</td>\n",
       "      <td>0.000005</td>\n",
       "      <td>41.24</td>\n",
       "      <td>9</td>\n",
       "      <td>4.015142e-05</td>\n",
       "      <td>0.104000</td>\n",
       "      <td>0.000005</td>\n",
       "      <td>...</td>\n",
       "      <td>4.854</td>\n",
       "      <td>1.0</td>\n",
       "      <td>3.271215</td>\n",
       "      <td>0.096</td>\n",
       "      <td>10.416667</td>\n",
       "      <td>175.438884</td>\n",
       "      <td>0.818263</td>\n",
       "      <td>0.862599</td>\n",
       "      <td>0.336494</td>\n",
       "      <td>0.672452</td>\n",
       "    </tr>\n",
       "    <tr>\n",
       "      <th>1</th>\n",
       "      <td>2</td>\n",
       "      <td>randoms-10</td>\n",
       "      <td>QRNG</td>\n",
       "      <td>IBM Qiskit (Single-Qubit)</td>\n",
       "      <td>0.000010</td>\n",
       "      <td>39.24</td>\n",
       "      <td>9</td>\n",
       "      <td>1.988713e-04</td>\n",
       "      <td>0.096000</td>\n",
       "      <td>0.000010</td>\n",
       "      <td>...</td>\n",
       "      <td>5.050</td>\n",
       "      <td>1.0</td>\n",
       "      <td>3.272462</td>\n",
       "      <td>0.338</td>\n",
       "      <td>2.958580</td>\n",
       "      <td>181.936266</td>\n",
       "      <td>0.764618</td>\n",
       "      <td>0.655328</td>\n",
       "      <td>0.344172</td>\n",
       "      <td>0.588039</td>\n",
       "    </tr>\n",
       "    <tr>\n",
       "      <th>2</th>\n",
       "      <td>3</td>\n",
       "      <td>randoms-100</td>\n",
       "      <td>PRNG</td>\n",
       "      <td>Linear Congruential Generator (LCG)</td>\n",
       "      <td>0.989425</td>\n",
       "      <td>2.12</td>\n",
       "      <td>9</td>\n",
       "      <td>9.079986e-05</td>\n",
       "      <td>0.100000</td>\n",
       "      <td>0.989425</td>\n",
       "      <td>...</td>\n",
       "      <td>5.592</td>\n",
       "      <td>1.0</td>\n",
       "      <td>3.318868</td>\n",
       "      <td>0.500</td>\n",
       "      <td>2.000000</td>\n",
       "      <td>196.000000</td>\n",
       "      <td>0.294679</td>\n",
       "      <td>0.610392</td>\n",
       "      <td>0.134783</td>\n",
       "      <td>0.346618</td>\n",
       "    </tr>\n",
       "    <tr>\n",
       "      <th>3</th>\n",
       "      <td>4</td>\n",
       "      <td>randoms-101</td>\n",
       "      <td>PRNG</td>\n",
       "      <td>XORShift</td>\n",
       "      <td>0.337688</td>\n",
       "      <td>10.16</td>\n",
       "      <td>9</td>\n",
       "      <td>4.200665e-07</td>\n",
       "      <td>0.124000</td>\n",
       "      <td>0.337688</td>\n",
       "      <td>...</td>\n",
       "      <td>5.282</td>\n",
       "      <td>1.0</td>\n",
       "      <td>3.307208</td>\n",
       "      <td>0.054</td>\n",
       "      <td>18.518519</td>\n",
       "      <td>162.277093</td>\n",
       "      <td>0.696571</td>\n",
       "      <td>0.857378</td>\n",
       "      <td>0.121763</td>\n",
       "      <td>0.558571</td>\n",
       "    </tr>\n",
       "    <tr>\n",
       "      <th>4</th>\n",
       "      <td>5</td>\n",
       "      <td>randoms-102</td>\n",
       "      <td>PRNG</td>\n",
       "      <td>XORShift</td>\n",
       "      <td>0.040108</td>\n",
       "      <td>17.60</td>\n",
       "      <td>9</td>\n",
       "      <td>1.240019e-06</td>\n",
       "      <td>0.119556</td>\n",
       "      <td>0.040108</td>\n",
       "      <td>...</td>\n",
       "      <td>5.748</td>\n",
       "      <td>1.0</td>\n",
       "      <td>3.297016</td>\n",
       "      <td>0.338</td>\n",
       "      <td>2.958580</td>\n",
       "      <td>187.311277</td>\n",
       "      <td>0.863323</td>\n",
       "      <td>0.766339</td>\n",
       "      <td>0.228886</td>\n",
       "      <td>0.619516</td>\n",
       "    </tr>\n",
       "  </tbody>\n",
       "</table>\n",
       "<p>5 rows × 28 columns</p>\n",
       "</div>"
      ],
      "text/plain": [
       "   index sequence_label source                            generator  chisqr_p  \\\n",
       "0      1      randoms-1   QRNG            IBM Qiskit (Single-Qubit)  0.000005   \n",
       "1      2     randoms-10   QRNG            IBM Qiskit (Single-Qubit)  0.000010   \n",
       "2      3    randoms-100   PRNG  Linear Congruential Generator (LCG)  0.989425   \n",
       "3      4    randoms-101   PRNG                             XORShift  0.337688   \n",
       "4      5    randoms-102   PRNG                             XORShift  0.040108   \n",
       "\n",
       "   chisqr_X2.X-squared  chisqr_df.df          ks_p    ks_D.D    freq_p  ...  \\\n",
       "0                41.24             9  4.015142e-05  0.104000  0.000005  ...   \n",
       "1                39.24             9  1.988713e-04  0.096000  0.000010  ...   \n",
       "2                 2.12             9  9.079986e-05  0.100000  0.989425  ...   \n",
       "3                10.16             9  4.200665e-07  0.124000  0.337688  ...   \n",
       "4                17.60             9  1.240019e-06  0.119556  0.040108  ...   \n",
       "\n",
       "   perm_observed_stat  perm_p  entropy_val  fft_dominant_frequency  \\\n",
       "0               4.854     1.0     3.271215                   0.096   \n",
       "1               5.050     1.0     3.272462                   0.338   \n",
       "2               5.592     1.0     3.318868                   0.500   \n",
       "3               5.282     1.0     3.307208                   0.054   \n",
       "4               5.748     1.0     3.297016                   0.338   \n",
       "\n",
       "   fft_dominant_period  fft_max_magnitude  uniformity_score  patterns_score  \\\n",
       "0            10.416667         175.438884          0.818263        0.862599   \n",
       "1             2.958580         181.936266          0.764618        0.655328   \n",
       "2             2.000000         196.000000          0.294679        0.610392   \n",
       "3            18.518519         162.277093          0.696571        0.857378   \n",
       "4             2.958580         187.311277          0.863323        0.766339   \n",
       "\n",
       "   periodicity_score  randomness_score  \n",
       "0           0.336494          0.672452  \n",
       "1           0.344172          0.588039  \n",
       "2           0.134783          0.346618  \n",
       "3           0.121763          0.558571  \n",
       "4           0.228886          0.619516  \n",
       "\n",
       "[5 rows x 28 columns]"
      ]
     },
     "execution_count": 2,
     "metadata": {},
     "output_type": "execute_result"
    }
   ],
   "source": [
    "df= pd.read_csv(\"../Scoring/feature_vector_scored.csv\")\n",
    "df.head()"
   ]
  },
  {
   "cell_type": "code",
   "execution_count": 3,
   "metadata": {},
   "outputs": [],
   "source": [
    "features = [\n",
    "    'chisqr_p', 'ks_p', 'freq_p', 'eqdist_diff',\n",
    "    'gap_p', 'serial_autocorrelation',\n",
    "    'entropy_val', 'fft_max_magnitude'\n",
    "]"
   ]
  },
  {
   "cell_type": "code",
   "execution_count": 4,
   "metadata": {},
   "outputs": [],
   "source": [
    "df['target'] = (df['source'] == 'QRNG').astype(int)"
   ]
  },
  {
   "cell_type": "markdown",
   "metadata": {},
   "source": [
    "### Classifying on Raw features"
   ]
  },
  {
   "cell_type": "code",
   "execution_count": 5,
   "metadata": {},
   "outputs": [],
   "source": [
    "X = df[features]\n",
    "y = df['target']\n",
    "\n",
    "X_train, X_test, y_train, y_test = train_test_split(X, y, test_size=0.2, random_state=42, stratify=y)"
   ]
  },
  {
   "cell_type": "code",
   "execution_count": 6,
   "metadata": {},
   "outputs": [],
   "source": [
    "lrc = LogisticRegression(max_iter=1000, random_state=42)\n",
    "lrc.fit(X_train, y_train)\n",
    "y_pred_lrc = lrc.predict(X_test)\n",
    "y_prob_lrc = lrc.predict_proba(X_test)[:, 1]"
   ]
  },
  {
   "cell_type": "code",
   "execution_count": 7,
   "metadata": {},
   "outputs": [
    {
     "name": "stdout",
     "output_type": "stream",
     "text": [
      "Logitstic Regression Classifier on Raw Features\n",
      "\n",
      "Classification Report: \n",
      "              precision    recall  f1-score   support\n",
      "\n",
      "           0       1.00      0.92      0.96        12\n",
      "           1       0.92      1.00      0.96        12\n",
      "\n",
      "    accuracy                           0.96        24\n",
      "   macro avg       0.96      0.96      0.96        24\n",
      "weighted avg       0.96      0.96      0.96        24\n",
      "\n",
      "ROC-AUC: 1.0000\n",
      "\n",
      "Feature Coefficients:\n",
      "chisqr_p: -2.7177\n",
      "ks_p: 0.0037\n",
      "freq_p: -2.7177\n",
      "eqdist_diff: -0.0183\n",
      "gap_p: -0.0000\n",
      "serial_autocorrelation: 0.1474\n",
      "entropy_val: -0.4321\n",
      "fft_max_magnitude: -0.0071\n"
     ]
    }
   ],
   "source": [
    "roc_auc = roc_auc_score(y_test, y_prob_lrc)\n",
    "report = classification_report(y_test, y_pred_lrc)\n",
    "\n",
    "print(\"Logitstic Regression Classifier on Raw Features\\n\")\n",
    "print(f\"Classification Report: \\n{report}\")\n",
    "print(f\"ROC-AUC: {roc_auc:.4f}\")\n",
    "\n",
    "print(\"\\nFeature Coefficients:\")\n",
    "for feat, coef in zip(features, lrc.coef_[0]):\n",
    "    print(f\"{feat}: {coef:.4f}\")"
   ]
  },
  {
   "cell_type": "code",
   "execution_count": 8,
   "metadata": {},
   "outputs": [
    {
     "data": {
      "image/png": "[encoded data removed]",
      "text/plain": [
       "<Figure size 800x600 with 1 Axes>"
      ]
     },
     "metadata": {},
     "output_type": "display_data"
    }
   ],
   "source": [
    "fpr, tpr, _ = roc_curve(y_test, y_prob_lrc)\n",
    "plt.figure(figsize=(8, 6))\n",
    "plt.plot(fpr, tpr, label=f\"ROC-AUC = {roc_auc:.4f}\")\n",
    "plt.plot([0, 1], [0, 1], 'k--')\n",
    "plt.title(\"ROC Curve (Raw Features)\")\n",
    "plt.xlabel(\"False Positive Rate\")\n",
    "plt.ylabel(\"True Positive Rate\")\n",
    "plt.legend()\n",
    "plt.grid(True)\n",
    "plt.show()"
   ]
  },
  {
   "cell_type": "markdown",
   "metadata": {},
   "source": [
    "### Classifying on Random Scores"
   ]
  },
  {
   "cell_type": "code",
   "execution_count": 9,
   "metadata": {},
   "outputs": [],
   "source": [
    "X_score = df[['randomness_score']]\n",
    "X_score_train, X_score_test, y_train, y_test = train_test_split(X_score, y, test_size=0.2, random_state=42, stratify=y)"
   ]
  },
  {
   "cell_type": "code",
   "execution_count": 10,
   "metadata": {},
   "outputs": [],
   "source": [
    "lrc_score = LogisticRegression(max_iter=1000, random_state=42)\n",
    "lrc_score.fit(X_score_train, y_train)\n",
    "y_pred_lrc_score = lrc_score.predict(X_score_test)\n",
    "y_prob_lrc_score = lrc_score.predict_proba(X_score_test)[:, 1]"
   ]
  },
  {
   "cell_type": "code",
   "execution_count": 11,
   "metadata": {},
   "outputs": [
    {
     "name": "stdout",
     "output_type": "stream",
     "text": [
      "\n",
      "LR Classifier on Randomness Score\n",
      "Classification Report: \n",
      "              precision    recall  f1-score   support\n",
      "\n",
      "           0       0.92      0.92      0.92        12\n",
      "           1       0.92      0.92      0.92        12\n",
      "\n",
      "    accuracy                           0.92        24\n",
      "   macro avg       0.92      0.92      0.92        24\n",
      "weighted avg       0.92      0.92      0.92        24\n",
      "\n",
      "ROC-AUC: 0.9653\n",
      "\n",
      "Feature Coefficients:\n",
      "chisqr_p: 3.2501\n"
     ]
    }
   ],
   "source": [
    "report_clr_score = classification_report(y_test, y_pred_lrc_score)\n",
    "roc_auc_score_only = roc_auc_score(y_test, y_prob_lrc_score)\n",
    "\n",
    "print(\"\\nLR Classifier on Randomness Score\")\n",
    "print(f\"Classification Report: \\n{report_clr_score}\")\n",
    "print(f\"ROC-AUC: {roc_auc_score_only:.4f}\")\n",
    "\n",
    "print(\"\\nFeature Coefficients:\")\n",
    "for feat, coef in zip(features, lrc_score.coef_[0]):\n",
    "    print(f\"{feat}: {coef:.4f}\")"
   ]
  },
  {
   "cell_type": "code",
   "execution_count": 13,
   "metadata": {},
   "outputs": [
    {
     "data": {
      "image/png": "[encoded data removed]",
      "text/plain": [
       "<Figure size 800x600 with 1 Axes>"
      ]
     },
     "metadata": {},
     "output_type": "display_data"
    }
   ],
   "source": [
    "fpr_score, tpr_score, _ = roc_curve(y_test, y_prob_lrc_score)\n",
    "plt.figure(figsize=(8, 6))\n",
    "plt.plot(fpr_score, tpr_score, label=f\"ROC-AUC = {roc_auc_score_only:.4f}\")\n",
    "plt.plot([0, 1], [0, 1], 'k--')\n",
    "plt.title(\"ROC Curve\")\n",
    "plt.xlabel(\"False Positive Rate\")\n",
    "plt.ylabel(\"True Positive Rate\")\n",
    "plt.legend()\n",
    "plt.grid(True)\n",
    "plt.show()"
   ]
  },
  {
   "cell_type": "markdown",
   "metadata": {},
   "source": [
    "### Classifying with Threshold"
   ]
  },
  {
   "cell_type": "code",
   "execution_count": 14,
   "metadata": {},
   "outputs": [
    {
     "name": "stdout",
     "output_type": "stream",
     "text": [
      "\n",
      "=== Threshold Rule (Score >= 0.5) ===\n",
      "Threshold Accuracy: 0.8417\n"
     ]
    }
   ],
   "source": [
    "threshold = 0.5\n",
    "df['predicted_source'] = (df['randomness_score'] >= threshold).astype(int)\n",
    "threshold_accuracy = accuracy_score(df['target'], df['predicted_source'])\n",
    "\n",
    "print(\"\\n=== Threshold Rule (Score >= 0.5) ===\")\n",
    "print(f\"Threshold Accuracy: {threshold_accuracy:.4f}\")"
   ]
  },
  {
   "cell_type": "code",
   "execution_count": 15,
   "metadata": {},
   "outputs": [
    {
     "name": "stdout",
     "output_type": "stream",
     "text": [
      "Optimal Threshold: 0.5455\n",
      "Optimal Accuracy: 0.9000\n"
     ]
    }
   ],
   "source": [
    "thresholds = np.linspace(0, 1, 100)\n",
    "accuracies = [accuracy_score(df['target'], (df['randomness_score'] >= t).astype(int)) for t in thresholds]\n",
    "optimal_threshold = thresholds[np.argmax(accuracies)]\n",
    "optimal_accuracy = max(accuracies)\n",
    "\n",
    "print(f\"Optimal Threshold: {optimal_threshold:.4f}\")\n",
    "print(f\"Optimal Accuracy: {optimal_accuracy:.4f}\")"
   ]
  },
  {
   "cell_type": "code",
   "execution_count": 16,
   "metadata": {},
   "outputs": [
    {
     "data": {
      "image/png": "[encoded data removed]",
      "text/plain": [
       "<Figure size 800x600 with 1 Axes>"
      ]
     },
     "metadata": {},
     "output_type": "display_data"
    }
   ],
   "source": [
    "plt.figure(figsize=(8, 6))\n",
    "plt.plot(thresholds, accuracies)\n",
    "plt.axvline(optimal_threshold, color='r', linestyle='--', label=f\"Optimal = {optimal_threshold:.4f}\")\n",
    "plt.title(\"Accuracy vs. Threshold\")\n",
    "plt.xlabel(\"Threshold\")\n",
    "plt.ylabel(\"Accuracy\")\n",
    "plt.legend()\n",
    "plt.grid(True)\n",
    "plt.show()"
   ]
  }
 ],
 "metadata": {
  "kernelspec": {
   "display_name": "Python 3",
   "language": "python",
   "name": "python3"
  },
  "language_info": {
   "codemirror_mode": {
    "name": "ipython",
    "version": 3
   },
   "file_extension": ".py",
   "mimetype": "text/x-python",
   "name": "python",
   "nbconvert_exporter": "python",
   "pygments_lexer": "ipython3",
   "version": "3.10.7"
  }
 },
 "nbformat": 4,
 "nbformat_minor": 2
}
