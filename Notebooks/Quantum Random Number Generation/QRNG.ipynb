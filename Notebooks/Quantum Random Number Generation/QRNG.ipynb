{
 "cells": [
  {
   "cell_type": "code",
   "execution_count": 36,
   "metadata": {},
   "outputs": [],
   "source": [
    "from qiskit import QuantumCircuit\n",
    "from qiskit_aer import Aer\n",
    "from qiskit import transpile\n",
    "import pandas as pd\n",
    "from math import *"
   ]
  },
  {
   "cell_type": "code",
   "execution_count": 37,
   "metadata": {},
   "outputs": [],
   "source": [
    "def generateBit() -> int:\n",
    "    '''\n",
    "    This func returns a true random bit using a single qubit.\n",
    "\n",
    "    Output:\n",
    "        0 or 1\n",
    "    '''\n",
    "    qc = QuantumCircuit(1, 1)\n",
    "    qc.h(0)\n",
    "    qc.measure(0, 0)\n",
    "\n",
    "    backend = Aer.get_backend('qasm_simulator')\n",
    "    transpiled_qc = transpile(qc, backend)\n",
    "    job = backend.run(transpiled_qc)\n",
    "    result = job.result()\n",
    "\n",
    "    counts = result.get_counts()\n",
    "    measured_result = int(list(counts.keys())[0])\n",
    "\n",
    "    return measured_result"
   ]
  },
  {
   "cell_type": "code",
   "execution_count": 38,
   "metadata": {},
   "outputs": [],
   "source": [
    "def generateInt(max_val: int) -> int:\n",
    "    '''\n",
    "    Bit to Integer.\n",
    "\n",
    "    Input:\n",
    "        max_val: The maximum value of the integer to be generated.\n",
    "    Output:\n",
    "        A random integer between 0 and max_val (inclusive).\n",
    "    '''\n",
    "    nBits = ceil(log2(max_val + 1))\n",
    "    \n",
    "    while True:\n",
    "        bits = [generateBit() for _ in range(nBits)]\n",
    "        random_number = sum(bit * (2 ** i) for i, bit in enumerate(reversed(bits)))\n",
    "\n",
    "        if random_number <= max_val:\n",
    "            return random_number"
   ]
  },
  {
   "cell_type": "code",
   "execution_count": 39,
   "metadata": {},
   "outputs": [],
   "source": [
    "def main(max_val:int = 10, trial_n:int = 5) -> pd.DataFrame:\n",
    "    '''\n",
    "    This function generates a DataFrame with random integers.\n",
    "\n",
    "    Input:\n",
    "        max_val: The maximum value of the integer to be generated.\n",
    "        trial_n: The number of trials to generate random integers.\n",
    "    Output:\n",
    "        A DataFrame with two columns: 'index' and 'n'.\n",
    "            - index: The index of the trial.\n",
    "            - n: The generated random integer.\n",
    "    '''\n",
    "    randoms = []\n",
    "\n",
    "    for i in range(trial_n):\n",
    "        n = generateInt(max_val)\n",
    "        randoms.append({'index': i, 'n': n})\n",
    "    \n",
    "    return pd.DataFrame(randoms)\n",
    "\n",
    "df = main()"
   ]
  },
  {
   "cell_type": "code",
   "execution_count": 40,
   "metadata": {},
   "outputs": [
    {
     "name": "stdout",
     "output_type": "stream",
     "text": [
      "   index  n\n",
      "0      0  7\n",
      "1      1  8\n",
      "2      2  5\n",
      "3      3  1\n",
      "4      4  8\n"
     ]
    }
   ],
   "source": [
    "print(df)"
   ]
  }
 ],
 "metadata": {
  "kernelspec": {
   "display_name": "Python 3",
   "language": "python",
   "name": "python3"
  },
  "language_info": {
   "codemirror_mode": {
    "name": "ipython",
    "version": 3
   },
   "file_extension": ".py",
   "mimetype": "text/x-python",
   "name": "python",
   "nbconvert_exporter": "python",
   "pygments_lexer": "ipython3",
   "version": "3.10.7"
  }
 },
 "nbformat": 4,
 "nbformat_minor": 2
}
