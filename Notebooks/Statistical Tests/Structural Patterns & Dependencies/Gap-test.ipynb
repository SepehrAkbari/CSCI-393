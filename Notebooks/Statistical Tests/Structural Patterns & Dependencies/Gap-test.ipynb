{
 "cells": [
  {
   "cell_type": "markdown",
   "metadata": {},
   "source": [
    "## Gap Test for Patterns & Dependencies\n",
    "\n",
    "The **gap test** checks for patterns in the sequence of random numbers by measuring the gaps between occurrences of the same bin. A uniform distribution should have gap lengths that follow an expected frequency distribution.\n",
    "\n",
    "The process:\n",
    "1. Dividing the range of random numbers into **bins**.\n",
    "2. Tracking the **gap lengths** between occurrences of the same bin.\n",
    "3. Comparing the observed gap distribution to the expected uniform distribution using a **Chi-Squared test**."
   ]
  },
  {
   "cell_type": "code",
   "execution_count": 18,
   "metadata": {
    "vscode": {
     "languageId": "r"
    }
   },
   "outputs": [],
   "source": [
    "library(dplyr)\n",
    "library(tidyverse)"
   ]
  },
  {
   "cell_type": "markdown",
   "metadata": {},
   "source": [
    "### Loading the Data\n",
    "\n",
    "We load the dataset containing the random numbers."
   ]
  },
  {
   "cell_type": "code",
   "execution_count": 19,
   "metadata": {
    "vscode": {
     "languageId": "r"
    }
   },
   "outputs": [],
   "source": [
    "randoms <- read.csv(\"../../Data/randoms2.csv\")$n"
   ]
  },
  {
   "cell_type": "markdown",
   "metadata": {},
   "source": [
    "### Binning the Data\n",
    "\n",
    "We divide the range of random numbers into `num_bins` equal-width bins."
   ]
  },
  {
   "cell_type": "code",
   "execution_count": 20,
   "metadata": {
    "vscode": {
     "languageId": "r"
    }
   },
   "outputs": [],
   "source": [
    "num_bins <- 10\n",
    "breaks <- seq(min(randoms), max(randoms), length.out = num_bins + 1)\n",
    "\n",
    "binned <- cut(randoms, breaks = breaks, include.lowest = TRUE, labels = FALSE)"
   ]
  },
  {
   "cell_type": "markdown",
   "metadata": {
    "vscode": {
     "languageId": "r"
    }
   },
   "source": [
    "### Calculating Gaps\n",
    "\n",
    "We measure the gaps between occurrences of the same bin."
   ]
  },
  {
   "cell_type": "code",
   "execution_count": 21,
   "metadata": {
    "vscode": {
     "languageId": "r"
    }
   },
   "outputs": [],
   "source": [
    "calculate_gaps <- function(binned_data) {\n",
    "  gaps_list <- list()\n",
    "\n",
    "  for (bin in unique(binned_data)) {\n",
    "    indices <- which(binned_data == bin)\n",
    "\n",
    "    if (length(indices) > 1) {\n",
    "      gaps <- diff(indices)\n",
    "      gaps_list <- c(gaps_list, gaps)\n",
    "    }\n",
    "  }\n",
    "\n",
    "  return(unlist(gaps_list))\n",
    "}\n",
    "\n",
    "gaps <- calculate_gaps(binned)"
   ]
  },
  {
   "cell_type": "markdown",
   "metadata": {
    "vscode": {
     "languageId": "r"
    }
   },
   "source": [
    "### Chi-Square Test on Gap Frequencies\n",
    "\n",
    "We apply a Chi-Square test to check if the gap distribution matches what we expect for a uniform distribution."
   ]
  },
  {
   "cell_type": "code",
   "execution_count": 22,
   "metadata": {
    "vscode": {
     "languageId": "r"
    }
   },
   "outputs": [
    {
     "name": "stderr",
     "output_type": "stream",
     "text": [
      "Warning message in chisq.test(gap_freq, p = expected/sum(expected)):\n",
      "\"Chi-squared approximation may be incorrect\"\n"
     ]
    },
    {
     "name": "stdout",
     "output_type": "stream",
     "text": [
      "Gap test result for randoms:\n",
      "\n",
      "\tChi-squared test for given probabilities\n",
      "\n",
      "data:  gap_freq\n",
      "X-squared = 60.933, df = 23, p-value = 2.797e-05\n",
      "\n"
     ]
    }
   ],
   "source": [
    "gap_freq <- table(gaps)\n",
    "\n",
    "expected <- rep(sum(gap_freq) / length(gap_freq), length(gap_freq))\n",
    "\n",
    "gap_test <- chisq.test(gap_freq, p = expected / sum(expected))\n",
    "\n",
    "cat(\"Gap test result for randoms:\\n\")\n",
    "print(gap_test)"
   ]
  },
  {
   "cell_type": "markdown",
   "metadata": {
    "vscode": {
     "languageId": "r"
    }
   },
   "source": [
    "## Interpretation of the Gap Test Results\n",
    "\n",
    "- If the **p-value** is **high (e.g., > 0.05)**, the observed gaps match the expected distribution, indicating **no detectable patterns** in the gaps.\n",
    "- If the **p-value is low (e.g., < 0.05)**, the observed gaps deviate significantly from expectation, suggesting **patterns or dependencies** in the random sequence.\n",
    "- The **Chi-Square statistic** quantifies the difference between observed and expected gap distributions."
   ]
  }
 ],
 "metadata": {
  "kernelspec": {
   "display_name": "R",
   "language": "R",
   "name": "ir"
  },
  "language_info": {
   "codemirror_mode": "r",
   "file_extension": ".r",
   "mimetype": "text/x-r-source",
   "name": "R",
   "pygments_lexer": "r",
   "version": "4.4.2"
  }
 },
 "nbformat": 4,
 "nbformat_minor": 2
}
