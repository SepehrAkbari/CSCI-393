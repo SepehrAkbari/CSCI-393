{
 "cells": [
  {
   "cell_type": "markdown",
   "metadata": {},
   "source": [
    "## Chi-Squared ($\\chi ^ 2$) Test for Uniformity\n",
    "\n",
    "The **Chi-Squared test** is used to compare the observed frequencies of events to expected frequencies, which are based on a hypothesis of a uniform distribution. If the observed frequencies match the expected frequencies, the numbers are considered uniformly distributed."
   ]
  },
  {
   "cell_type": "code",
   "execution_count": 1,
   "metadata": {
    "vscode": {
     "languageId": "r"
    }
   },
   "outputs": [
    {
     "name": "stderr",
     "output_type": "stream",
     "text": [
      "\n",
      "Attaching package: 'dplyr'\n",
      "\n",
      "\n",
      "The following objects are masked from 'package:stats':\n",
      "\n",
      "    filter, lag\n",
      "\n",
      "\n",
      "The following objects are masked from 'package:base':\n",
      "\n",
      "    intersect, setdiff, setequal, union\n",
      "\n",
      "\n",
      "-- \u001b[1mAttaching core tidyverse packages\u001b[22m ------------------------ tidyverse 2.0.0 --\n",
      "\u001b[32mv\u001b[39m \u001b[34mforcats  \u001b[39m 1.0.0     \u001b[32mv\u001b[39m \u001b[34mreadr    \u001b[39m 2.1.5\n",
      "\u001b[32mv\u001b[39m \u001b[34mggplot2  \u001b[39m 3.5.1     \u001b[32mv\u001b[39m \u001b[34mstringr  \u001b[39m 1.5.1\n",
      "\u001b[32mv\u001b[39m \u001b[34mlubridate\u001b[39m 1.9.3     \u001b[32mv\u001b[39m \u001b[34mtibble   \u001b[39m 3.2.1\n",
      "\u001b[32mv\u001b[39m \u001b[34mpurrr    \u001b[39m 1.0.2     \u001b[32mv\u001b[39m \u001b[34mtidyr    \u001b[39m 1.3.1\n",
      "-- \u001b[1mConflicts\u001b[22m ------------------------------------------ tidyverse_conflicts() --\n",
      "\u001b[31mx\u001b[39m \u001b[34mdplyr\u001b[39m::\u001b[32mfilter()\u001b[39m masks \u001b[34mstats\u001b[39m::filter()\n",
      "\u001b[31mx\u001b[39m \u001b[34mdplyr\u001b[39m::\u001b[32mlag()\u001b[39m    masks \u001b[34mstats\u001b[39m::lag()\n",
      "\u001b[36mi\u001b[39m Use the conflicted package (\u001b[3m\u001b[34m<http://conflicted.r-lib.org/>\u001b[39m\u001b[23m) to force all conflicts to become errors\n"
     ]
    }
   ],
   "source": [
    "#| message: FALSE\n",
    "library(dplyr)\n",
    "library(tidyverse)"
   ]
  },
  {
   "cell_type": "markdown",
   "metadata": {},
   "source": [
    "### Loading the Data\n",
    "\n",
    "We load the random numbers from a CSV file to analyze their distribution."
   ]
  },
  {
   "cell_type": "code",
   "execution_count": 2,
   "metadata": {
    "vscode": {
     "languageId": "r"
    }
   },
   "outputs": [
    {
     "name": "stderr",
     "output_type": "stream",
     "text": [
      "Warning message in file(file, \"rt\"):\n",
      "\"cannot open file '../../../Data/LCG-RN/randoms-1.csv': No such file or directory\"\n"
     ]
    },
    {
     "ename": "ERROR",
     "evalue": "Error in file(file, \"rt\"): cannot open the connection\n",
     "output_type": "error",
     "traceback": [
      "Error in file(file, \"rt\"): cannot open the connection\nTraceback:\n",
      "1. read.table(file = file, header = header, sep = sep, quote = quote, \n .     dec = dec, fill = fill, comment.char = comment.char, ...)",
      "2. file(file, \"rt\")",
      "3. .handleSimpleError(function (cnd) \n . {\n .     watcher$capture_plot_and_output()\n .     cnd <- sanitize_call(cnd)\n .     watcher$push(cnd)\n .     switch(on_error, continue = invokeRestart(\"eval_continue\"), \n .         stop = invokeRestart(\"eval_stop\"), error = invokeRestart(\"eval_error\", \n .             cnd))\n . }, \"cannot open the connection\", base::quote(file(file, \"rt\")))"
     ]
    }
   ],
   "source": [
    "randoms <- read.csv(\"../../../Data/LCG-RN/randoms-1.csv\")$n\n",
    "\n",
    "max_val <- 10\n",
    "min_val <- 1"
   ]
  },
  {
   "cell_type": "markdown",
   "metadata": {},
   "source": [
    "### Creating Bins\n",
    "\n",
    "The numbers will be grouped into bins for comparison. We use a binning method to divide the range [min, max] into 10 equal intervals. This helps in comparing observed versus expected frequency in each bin."
   ]
  },
  {
   "cell_type": "code",
   "execution_count": null,
   "metadata": {
    "vscode": {
     "languageId": "r"
    }
   },
   "outputs": [],
   "source": [
    "bins <- cut(randoms,\n",
    "            breaks = seq(min_val, max_val,\n",
    "                         length.out = 11),\n",
    "            include.lowest = TRUE)"
   ]
  },
  {
   "cell_type": "markdown",
   "metadata": {},
   "source": [
    "### Frequency Calculation\n",
    "\n",
    "We count how many numbers fall into each bin. This gives us the observed frequencies for the test."
   ]
  },
  {
   "cell_type": "code",
   "execution_count": null,
   "metadata": {
    "vscode": {
     "languageId": "r"
    }
   },
   "outputs": [],
   "source": [
    "freq <- table(bins)"
   ]
  },
  {
   "cell_type": "markdown",
   "metadata": {},
   "source": [
    "### Expected Frequency\n",
    "\n",
    "Under a uniform distribution, we expect the numbers to be evenly distributed across the bins. The expected frequency for each bin is the total number of random numbers divided by the number of bins."
   ]
  },
  {
   "cell_type": "code",
   "execution_count": null,
   "metadata": {
    "vscode": {
     "languageId": "r"
    }
   },
   "outputs": [],
   "source": [
    "expected <- rep(length(randoms) / length(freq),\n",
    "                length(freq))"
   ]
  },
  {
   "cell_type": "markdown",
   "metadata": {},
   "source": [
    "### Running the Chi-Squared Test\n",
    "\n",
    "We now apply the Chi-Squared test to check whether the observed frequencies significantly deviate from the expected frequencies for a uniform distribution."
   ]
  },
  {
   "cell_type": "code",
   "execution_count": null,
   "metadata": {
    "vscode": {
     "languageId": "r"
    }
   },
   "outputs": [],
   "source": [
    "chi_test <- chisq.test(freq,\n",
    "                       p = expected / sum(expected))\n",
    "\n",
    "print(chi_test)"
   ]
  },
  {
   "cell_type": "markdown",
   "metadata": {},
   "source": [
    "## Interpreting the Results\n",
    "\n",
    "The Chi-Squared test provides a p-value which tells us whether there is a significant difference between the observed and expected frequencies. A low p-value (<0.05) suggests that the random numbers are not uniformly distributed, while a high p-value indicates no significant difference, supporting the hypothesis of uniformity.\n",
    "\n",
    "- **$\\text{p-value} > 0.05$**: There is significant evidence that the random numbers are not uniformly distributed.\n",
    "- **$\\text{p-value} \\ge 0.05$**: There is insufficient evidence to reject the hypothesis that the random numbers are uniformly distributed."
   ]
  },
  {
   "cell_type": "markdown",
   "metadata": {},
   "source": [
    "## Approach\n",
    "\n",
    "1. Create 10 equal-width bins between min_val and max_val.\n",
    "\n",
    "2. Count how many data points fall into each bin.\n",
    "\n",
    "3. Calculate the expected frequency for each bin (assuming uniform distribution).\n",
    "\n",
    "4. Perform a chi-squared test comparing the frequency to the expected frequencies."
   ]
  },
  {
   "cell_type": "code",
   "execution_count": 2,
   "metadata": {
    "vscode": {
     "languageId": "r"
    }
   },
   "outputs": [
    {
     "name": "stdout",
     "output_type": "stream",
     "text": [
      "           chisqr_p chisqr_X2.X-squared        chisqr_df.df \n",
      "          0.8040539           6.1320000          10.0000000 \n"
     ]
    }
   ],
   "source": [
    "randoms <- read.csv(\"../../../Data/Q-RN/randoms-1.csv\")$n\n",
    "\n",
    "chisqr_test <- function(data, min_val = 0, max_val = 10) {\n",
    "  bins <- cut(data,\n",
    "              breaks = seq(min_val, max_val, length.out = max_val - min_val + 2),\n",
    "              include.lowest = TRUE)\n",
    "\n",
    "  freq <- table(bins)\n",
    "\n",
    "  expected <- rep(length(data) / length(freq), length(freq))\n",
    "\n",
    "  chi_test <- chisq.test(freq, p = expected / sum(expected))\n",
    "\n",
    "  return(c(chisqr_p = chi_test$p.value,\n",
    "           chisqr_X2 = chi_test$statistic,\n",
    "           chisqr_df = chi_test$parameter))\n",
    "}\n",
    "\n",
    "res <- chisqr_test(randoms)\n",
    "print(res)"
   ]
  }
 ],
 "metadata": {
  "kernelspec": {
   "display_name": "R",
   "language": "R",
   "name": "ir"
  },
  "language_info": {
   "codemirror_mode": "r",
   "file_extension": ".r",
   "mimetype": "text/x-r-source",
   "name": "R",
   "pygments_lexer": "r",
   "version": "4.4.2"
  }
 },
 "nbformat": 4,
 "nbformat_minor": 2
}
