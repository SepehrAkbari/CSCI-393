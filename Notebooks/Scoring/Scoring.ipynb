{
 "cells": [
  {
   "cell_type": "code",
   "execution_count": 1,
   "metadata": {},
   "outputs": [],
   "source": [
    "import pandas as pd\n",
    "import numpy as np\n",
    "import matplotlib.pyplot as plt"
   ]
  },
  {
   "cell_type": "code",
   "execution_count": 2,
   "metadata": {},
   "outputs": [
    {
     "data": {
      "application/vnd.microsoft.datawrangler.viewer.v0+json": {
       "columns": [
        {
         "name": "index",
         "rawType": "int64",
         "type": "integer"
        },
        {
         "name": "index",
         "rawType": "int64",
         "type": "integer"
        },
        {
         "name": "sequence_label",
         "rawType": "object",
         "type": "string"
        },
        {
         "name": "source",
         "rawType": "object",
         "type": "string"
        },
        {
         "name": "generator",
         "rawType": "object",
         "type": "string"
        },
        {
         "name": "chisqr_p",
         "rawType": "float64",
         "type": "float"
        },
        {
         "name": "chisqr_X2.X-squared",
         "rawType": "float64",
         "type": "float"
        },
        {
         "name": "chisqr_df.df",
         "rawType": "int64",
         "type": "integer"
        },
        {
         "name": "ks_p",
         "rawType": "float64",
         "type": "float"
        },
        {
         "name": "ks_D.D",
         "rawType": "float64",
         "type": "float"
        },
        {
         "name": "freq_p",
         "rawType": "float64",
         "type": "float"
        },
        {
         "name": "freq_X2.X-squared",
         "rawType": "float64",
         "type": "float"
        },
        {
         "name": "freq_df.df",
         "rawType": "int64",
         "type": "integer"
        },
        {
         "name": "eqdist_empiricalMean",
         "rawType": "float64",
         "type": "float"
        },
        {
         "name": "eqdist_diff",
         "rawType": "float64",
         "type": "float"
        },
        {
         "name": "gap_p",
         "rawType": "float64",
         "type": "float"
        },
        {
         "name": "gap_X2.X-squared",
         "rawType": "float64",
         "type": "float"
        },
        {
         "name": "gap_df.df",
         "rawType": "int64",
         "type": "integer"
        },
        {
         "name": "serial_autocorrelation",
         "rawType": "float64",
         "type": "float"
        },
        {
         "name": "perm_observed_stat",
         "rawType": "float64",
         "type": "float"
        },
        {
         "name": "perm_p",
         "rawType": "float64",
         "type": "float"
        },
        {
         "name": "entropy_val",
         "rawType": "float64",
         "type": "float"
        },
        {
         "name": "fft_dominant_frequency",
         "rawType": "float64",
         "type": "float"
        },
        {
         "name": "fft_dominant_period",
         "rawType": "float64",
         "type": "float"
        },
        {
         "name": "fft_max_magnitude",
         "rawType": "float64",
         "type": "float"
        }
       ],
       "conversionMethod": "pd.DataFrame",
       "ref": "1fd8a304-21d8-4def-8580-7b4badb9056a",
       "rows": [
        [
         "0",
         "1",
         "randoms-1",
         "QRNG",
         "IBM Qiskit (Single-Qubit)",
         "4.52309202120639e-06",
         "41.24",
         "9",
         "4.01514172449902e-05",
         "0.104",
         "4.52309202120639e-06",
         "41.24",
         "9",
         "0.4854",
         "0.0146",
         "5.97398345713606e-108",
         "634.069387755102",
         "40",
         "0.0623389164301799",
         "4.854",
         "1.0",
         "3.27121528191636",
         "0.096",
         "10.4166666666667",
         "175.438883561187"
        ],
        [
         "1",
         "2",
         "randoms-10",
         "QRNG",
         "IBM Qiskit (Single-Qubit)",
         "1.04273609815309e-05",
         "39.24",
         "9",
         "0.0001988712714996",
         "0.096",
         "1.04273609815309e-05",
         "39.24",
         "9",
         "0.505",
         "0.005",
         "6.61227867075976e-138",
         "789.232653061224",
         "43",
         "-0.0423221417763274",
         "5.05",
         "1.0",
         "3.27246199628308",
         "0.338",
         "2.9585798816568",
         "181.936265616827"
        ],
        [
         "2",
         "3",
         "randoms-100",
         "PRNG",
         "Linear Congruential Generator (LCG)",
         "0.989424581868437",
         "2.12",
         "9",
         "9.07998595249615e-05",
         "0.1",
         "0.989424581868437",
         "2.12",
         "9",
         "0.510222222222222",
         "0.0102222222222222",
         "3.3768714964436203e-161",
         "825.6",
         "21",
         "-0.0650122839465384",
         "5.592",
         "1.0",
         "3.31886752770939",
         "0.5",
         "2.0",
         "196.0"
        ],
        [
         "3",
         "4",
         "randoms-101",
         "PRNG",
         "XORShift",
         "0.33768835649024",
         "10.16",
         "9",
         "4.20066493879215e-07",
         "0.124",
         "0.33768835649024",
         "10.16",
         "9",
         "0.475777777777778",
         "0.0242222222222223",
         "4.4090933667562196e-129",
         "746.310204081633",
         "43",
         "0.0597024859365902",
         "5.282",
         "1.0",
         "3.30720794157676",
         "0.054",
         "18.5185185185185",
         "162.277093355671"
        ],
        [
         "4",
         "5",
         "randoms-102",
         "PRNG",
         "XORShift",
         "0.0401082797659396",
         "17.6",
         "9",
         "1.24001921358892e-06",
         "0.119555555555556",
         "0.0401082797659396",
         "17.6",
         "9",
         "0.527555555555556",
         "0.0275555555555556",
         "4.211259808467691e-112",
         "657.371428571429",
         "41",
         "0.0137324333932998",
         "5.748",
         "1.0",
         "3.29701646443168",
         "0.338",
         "2.9585798816568",
         "187.311276870453"
        ]
       ],
       "shape": {
        "columns": 24,
        "rows": 5
       }
      },
      "text/html": [
       "<div>\n",
       "<style scoped>\n",
       "    .dataframe tbody tr th:only-of-type {\n",
       "        vertical-align: middle;\n",
       "    }\n",
       "\n",
       "    .dataframe tbody tr th {\n",
       "        vertical-align: top;\n",
       "    }\n",
       "\n",
       "    .dataframe thead th {\n",
       "        text-align: right;\n",
       "    }\n",
       "</style>\n",
       "<table border=\"1\" class=\"dataframe\">\n",
       "  <thead>\n",
       "    <tr style=\"text-align: right;\">\n",
       "      <th></th>\n",
       "      <th>index</th>\n",
       "      <th>sequence_label</th>\n",
       "      <th>source</th>\n",
       "      <th>generator</th>\n",
       "      <th>chisqr_p</th>\n",
       "      <th>chisqr_X2.X-squared</th>\n",
       "      <th>chisqr_df.df</th>\n",
       "      <th>ks_p</th>\n",
       "      <th>ks_D.D</th>\n",
       "      <th>freq_p</th>\n",
       "      <th>...</th>\n",
       "      <th>gap_p</th>\n",
       "      <th>gap_X2.X-squared</th>\n",
       "      <th>gap_df.df</th>\n",
       "      <th>serial_autocorrelation</th>\n",
       "      <th>perm_observed_stat</th>\n",
       "      <th>perm_p</th>\n",
       "      <th>entropy_val</th>\n",
       "      <th>fft_dominant_frequency</th>\n",
       "      <th>fft_dominant_period</th>\n",
       "      <th>fft_max_magnitude</th>\n",
       "    </tr>\n",
       "  </thead>\n",
       "  <tbody>\n",
       "    <tr>\n",
       "      <th>0</th>\n",
       "      <td>1</td>\n",
       "      <td>randoms-1</td>\n",
       "      <td>QRNG</td>\n",
       "      <td>IBM Qiskit (Single-Qubit)</td>\n",
       "      <td>0.000005</td>\n",
       "      <td>41.24</td>\n",
       "      <td>9</td>\n",
       "      <td>4.015142e-05</td>\n",
       "      <td>0.104000</td>\n",
       "      <td>0.000005</td>\n",
       "      <td>...</td>\n",
       "      <td>5.973983e-108</td>\n",
       "      <td>634.069388</td>\n",
       "      <td>40</td>\n",
       "      <td>0.062339</td>\n",
       "      <td>4.854</td>\n",
       "      <td>1.0</td>\n",
       "      <td>3.271215</td>\n",
       "      <td>0.096</td>\n",
       "      <td>10.416667</td>\n",
       "      <td>175.438884</td>\n",
       "    </tr>\n",
       "    <tr>\n",
       "      <th>1</th>\n",
       "      <td>2</td>\n",
       "      <td>randoms-10</td>\n",
       "      <td>QRNG</td>\n",
       "      <td>IBM Qiskit (Single-Qubit)</td>\n",
       "      <td>0.000010</td>\n",
       "      <td>39.24</td>\n",
       "      <td>9</td>\n",
       "      <td>1.988713e-04</td>\n",
       "      <td>0.096000</td>\n",
       "      <td>0.000010</td>\n",
       "      <td>...</td>\n",
       "      <td>6.612279e-138</td>\n",
       "      <td>789.232653</td>\n",
       "      <td>43</td>\n",
       "      <td>-0.042322</td>\n",
       "      <td>5.050</td>\n",
       "      <td>1.0</td>\n",
       "      <td>3.272462</td>\n",
       "      <td>0.338</td>\n",
       "      <td>2.958580</td>\n",
       "      <td>181.936266</td>\n",
       "    </tr>\n",
       "    <tr>\n",
       "      <th>2</th>\n",
       "      <td>3</td>\n",
       "      <td>randoms-100</td>\n",
       "      <td>PRNG</td>\n",
       "      <td>Linear Congruential Generator (LCG)</td>\n",
       "      <td>0.989425</td>\n",
       "      <td>2.12</td>\n",
       "      <td>9</td>\n",
       "      <td>9.079986e-05</td>\n",
       "      <td>0.100000</td>\n",
       "      <td>0.989425</td>\n",
       "      <td>...</td>\n",
       "      <td>3.376871e-161</td>\n",
       "      <td>825.600000</td>\n",
       "      <td>21</td>\n",
       "      <td>-0.065012</td>\n",
       "      <td>5.592</td>\n",
       "      <td>1.0</td>\n",
       "      <td>3.318868</td>\n",
       "      <td>0.500</td>\n",
       "      <td>2.000000</td>\n",
       "      <td>196.000000</td>\n",
       "    </tr>\n",
       "    <tr>\n",
       "      <th>3</th>\n",
       "      <td>4</td>\n",
       "      <td>randoms-101</td>\n",
       "      <td>PRNG</td>\n",
       "      <td>XORShift</td>\n",
       "      <td>0.337688</td>\n",
       "      <td>10.16</td>\n",
       "      <td>9</td>\n",
       "      <td>4.200665e-07</td>\n",
       "      <td>0.124000</td>\n",
       "      <td>0.337688</td>\n",
       "      <td>...</td>\n",
       "      <td>4.409093e-129</td>\n",
       "      <td>746.310204</td>\n",
       "      <td>43</td>\n",
       "      <td>0.059702</td>\n",
       "      <td>5.282</td>\n",
       "      <td>1.0</td>\n",
       "      <td>3.307208</td>\n",
       "      <td>0.054</td>\n",
       "      <td>18.518519</td>\n",
       "      <td>162.277093</td>\n",
       "    </tr>\n",
       "    <tr>\n",
       "      <th>4</th>\n",
       "      <td>5</td>\n",
       "      <td>randoms-102</td>\n",
       "      <td>PRNG</td>\n",
       "      <td>XORShift</td>\n",
       "      <td>0.040108</td>\n",
       "      <td>17.60</td>\n",
       "      <td>9</td>\n",
       "      <td>1.240019e-06</td>\n",
       "      <td>0.119556</td>\n",
       "      <td>0.040108</td>\n",
       "      <td>...</td>\n",
       "      <td>4.211260e-112</td>\n",
       "      <td>657.371429</td>\n",
       "      <td>41</td>\n",
       "      <td>0.013732</td>\n",
       "      <td>5.748</td>\n",
       "      <td>1.0</td>\n",
       "      <td>3.297016</td>\n",
       "      <td>0.338</td>\n",
       "      <td>2.958580</td>\n",
       "      <td>187.311277</td>\n",
       "    </tr>\n",
       "  </tbody>\n",
       "</table>\n",
       "<p>5 rows × 24 columns</p>\n",
       "</div>"
      ],
      "text/plain": [
       "   index sequence_label source                            generator  chisqr_p  \\\n",
       "0      1      randoms-1   QRNG            IBM Qiskit (Single-Qubit)  0.000005   \n",
       "1      2     randoms-10   QRNG            IBM Qiskit (Single-Qubit)  0.000010   \n",
       "2      3    randoms-100   PRNG  Linear Congruential Generator (LCG)  0.989425   \n",
       "3      4    randoms-101   PRNG                             XORShift  0.337688   \n",
       "4      5    randoms-102   PRNG                             XORShift  0.040108   \n",
       "\n",
       "   chisqr_X2.X-squared  chisqr_df.df          ks_p    ks_D.D    freq_p  ...  \\\n",
       "0                41.24             9  4.015142e-05  0.104000  0.000005  ...   \n",
       "1                39.24             9  1.988713e-04  0.096000  0.000010  ...   \n",
       "2                 2.12             9  9.079986e-05  0.100000  0.989425  ...   \n",
       "3                10.16             9  4.200665e-07  0.124000  0.337688  ...   \n",
       "4                17.60             9  1.240019e-06  0.119556  0.040108  ...   \n",
       "\n",
       "           gap_p  gap_X2.X-squared  gap_df.df  serial_autocorrelation  \\\n",
       "0  5.973983e-108        634.069388         40                0.062339   \n",
       "1  6.612279e-138        789.232653         43               -0.042322   \n",
       "2  3.376871e-161        825.600000         21               -0.065012   \n",
       "3  4.409093e-129        746.310204         43                0.059702   \n",
       "4  4.211260e-112        657.371429         41                0.013732   \n",
       "\n",
       "   perm_observed_stat  perm_p  entropy_val  fft_dominant_frequency  \\\n",
       "0               4.854     1.0     3.271215                   0.096   \n",
       "1               5.050     1.0     3.272462                   0.338   \n",
       "2               5.592     1.0     3.318868                   0.500   \n",
       "3               5.282     1.0     3.307208                   0.054   \n",
       "4               5.748     1.0     3.297016                   0.338   \n",
       "\n",
       "   fft_dominant_period  fft_max_magnitude  \n",
       "0            10.416667         175.438884  \n",
       "1             2.958580         181.936266  \n",
       "2             2.000000         196.000000  \n",
       "3            18.518519         162.277093  \n",
       "4             2.958580         187.311277  \n",
       "\n",
       "[5 rows x 24 columns]"
      ]
     },
     "execution_count": 2,
     "metadata": {},
     "output_type": "execute_result"
    }
   ],
   "source": [
    "fv = pd.read_csv('../../Data/feature_vector.csv')\n",
    "fv.head()"
   ]
  },
  {
   "cell_type": "code",
   "execution_count": 3,
   "metadata": {},
   "outputs": [],
   "source": [
    "features = {\n",
    "    'uniformity': ['chisqr_p', 'ks_p', 'freq_p', 'eqdist_diff'],\n",
    "    'patterns': ['gap_p', 'serial_autocorrelation'],\n",
    "    'periodicity': ['entropy_val', 'fft_max_magnitude']\n",
    "}"
   ]
  },
  {
   "cell_type": "code",
   "execution_count": 4,
   "metadata": {},
   "outputs": [],
   "source": [
    "def normalize_feature(series, invert=False):\n",
    "    min_val, max_val = series.min(), series.max()\n",
    "    if min_val == max_val:\n",
    "        return np.zeros(len(series)) if invert else np.ones(len(series))\n",
    "    normalized = (series - min_val) / (max_val - min_val)\n",
    "    return normalized if invert else 1 - normalized"
   ]
  },
  {
   "cell_type": "code",
   "execution_count": 5,
   "metadata": {},
   "outputs": [],
   "source": [
    "sub_scores = {}\n",
    "for category, feats in features.items():\n",
    "    category_scores = []\n",
    "    for feat in feats:\n",
    "        if feat in ['eqdist_diff', 'serial_autocorrelation', 'fft_max_magnitude']:\n",
    "            normalized = normalize_feature(fv[feat], invert=True)\n",
    "        else:\n",
    "            normalized = normalize_feature(fv[feat], invert=False)\n",
    "        category_scores.append(normalized)\n",
    "    sub_scores[category] = np.mean(category_scores, axis=0)"
   ]
  },
  {
   "cell_type": "code",
   "execution_count": 6,
   "metadata": {},
   "outputs": [],
   "source": [
    "randomness_score = np.mean([sub_scores['uniformity'], sub_scores['patterns'], sub_scores['periodicity']], axis=0)"
   ]
  },
  {
   "cell_type": "code",
   "execution_count": 7,
   "metadata": {},
   "outputs": [],
   "source": [
    "fv_scored = fv.copy()\n",
    "\n",
    "fv_scored['uniformity_score'] = sub_scores['uniformity']\n",
    "fv_scored['patterns_score'] = sub_scores['patterns']\n",
    "fv_scored['periodicity_score'] = sub_scores['periodicity']\n",
    "fv_scored['randomness_score'] = randomness_score\n",
    "\n",
    "fv_scored.to_csv('feature_vector_scored.csv', index=False)"
   ]
  },
  {
   "cell_type": "code",
   "execution_count": 8,
   "metadata": {},
   "outputs": [
    {
     "data": {
      "image/png": "[encoded data removed]",
      "text/plain": [
       "<Figure size 1000x600 with 1 Axes>"
      ]
     },
     "metadata": {},
     "output_type": "display_data"
    },
    {
     "name": "stdout",
     "output_type": "stream",
     "text": [
      "        count      mean       std       min       25%       50%       75%  \\\n",
      "source                                                                      \n",
      "PRNG     60.0  0.462480  0.082749  0.179647  0.411492  0.472298  0.526405   \n",
      "QRNG     60.0  0.632057  0.052863  0.522707  0.594113  0.632798  0.672973   \n",
      "\n",
      "             max  \n",
      "source            \n",
      "PRNG    0.628687  \n",
      "QRNG    0.741631  \n"
     ]
    }
   ],
   "source": [
    "plt.figure(figsize=(10, 6))\n",
    "for source in fv_scored['source'].unique():\n",
    "    subset = fv_scored[fv_scored['source'] == source]\n",
    "    plt.hist(subset['randomness_score'], bins=20, alpha=0.6, label=source, density=True)\n",
    "plt.title(\"Randomness Score by Source\")\n",
    "plt.xlabel(\"Randomness Score (0-1)\")\n",
    "plt.ylabel(\"Density\")\n",
    "plt.legend()\n",
    "plt.grid(True)\n",
    "plt.show()\n",
    "\n",
    "print(fv_scored.groupby('source')['randomness_score'].describe())"
   ]
  },
  {
   "cell_type": "code",
   "execution_count": 9,
   "metadata": {},
   "outputs": [
    {
     "data": {
      "image/png": "[encoded data removed]",
      "text/plain": [
       "<Figure size 1000x600 with 1 Axes>"
      ]
     },
     "metadata": {},
     "output_type": "display_data"
    },
    {
     "name": "stdout",
     "output_type": "stream",
     "text": [
      "                                     count      mean       std       min  \\\n",
      "generator                                                                  \n",
      "IBM Qiskit (Single-Qubit)             60.0  0.632057  0.052863  0.522707   \n",
      "Linear Congruential Generator (LCG)   20.0  0.476584  0.082144  0.346618   \n",
      "Mersenne Twister (MT19937)            20.0  0.443417  0.058181  0.331876   \n",
      "XORShift                              20.0  0.467439  0.102531  0.179647   \n",
      "\n",
      "                                          25%       50%       75%       max  \n",
      "generator                                                                    \n",
      "IBM Qiskit (Single-Qubit)            0.594113  0.632798  0.672973  0.741631  \n",
      "Linear Congruential Generator (LCG)  0.420996  0.462848  0.538923  0.628687  \n",
      "Mersenne Twister (MT19937)           0.403569  0.460813  0.476914  0.534795  \n",
      "XORShift                             0.409399  0.489976  0.533001  0.619516  \n"
     ]
    }
   ],
   "source": [
    "plt.figure(figsize=(10, 6))\n",
    "for generator in fv_scored['generator'].unique():\n",
    "    subset = fv_scored[fv_scored['generator'] == generator]\n",
    "    plt.hist(subset['randomness_score'], bins=20, alpha=0.6, label=generator, density=True)\n",
    "plt.title(\"Randomness Score by Generator\")\n",
    "plt.xlabel(\"Randomness Score (0-1)\")\n",
    "plt.ylabel(\"Density\")\n",
    "plt.legend()\n",
    "plt.grid(True)\n",
    "plt.show()\n",
    "\n",
    "print(fv_scored.groupby('generator')['randomness_score'].describe())"
   ]
  }
 ],
 "metadata": {
  "kernelspec": {
   "display_name": "Python 3",
   "language": "python",
   "name": "python3"
  },
  "language_info": {
   "codemirror_mode": {
    "name": "ipython",
    "version": 3
   },
   "file_extension": ".py",
   "mimetype": "text/x-python",
   "name": "python",
   "nbconvert_exporter": "python",
   "pygments_lexer": "ipython3",
   "version": "3.10.7"
  }
 },
 "nbformat": 4,
 "nbformat_minor": 2
}
