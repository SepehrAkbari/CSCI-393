{
 "cells": [
  {
   "cell_type": "markdown",
   "metadata": {},
   "source": [
    "## Frequency Test for Uniformity\n",
    "\n",
    "The **frequency test (or bin test)** is a simple way to check whether a dataset follows a uniform distribution. It works by:\n",
    "1. Dividing the range of numbers into equal-sized bins.\n",
    "2. Counting how many numbers fall into each bin.\n",
    "3. Comparing the observed frequencies with the expected frequencies under uniformity.\n",
    "\n",
    "We use the Chi-Squared test to determine if the observed distribution significantly deviates from uniformity."
   ]
  },
  {
   "cell_type": "code",
   "execution_count": 2,
   "metadata": {
    "vscode": {
     "languageId": "r"
    }
   },
   "outputs": [],
   "source": [
    "library(dplyr)\n",
    "library(tidyverse)"
   ]
  },
  {
   "cell_type": "markdown",
   "metadata": {},
   "source": [
    "### Loading the Data\n",
    "\n",
    "We load the dataset containing the random numbers, which will be tested for uniformity."
   ]
  },
  {
   "cell_type": "code",
   "execution_count": null,
   "metadata": {
    "vscode": {
     "languageId": "r"
    }
   },
   "outputs": [],
   "source": [
    "randoms <- read.csv(\"../../Data/randoms2.csv\")$n\n",
    "\n",
    "max_val <- 10\n",
    "min_val <- 0"
   ]
  },
  {
   "cell_type": "markdown",
   "metadata": {},
   "source": [
    "### Defining Bins\n",
    "\n",
    "We divide the range of numbers into `num_bins` equal intervals. This allows us to compare the actual frequencies of numbers in each bin to the expected frequencies under uniformity."
   ]
  },
  {
   "cell_type": "code",
   "execution_count": 4,
   "metadata": {
    "vscode": {
     "languageId": "r"
    }
   },
   "outputs": [],
   "source": [
    "num_bins <- 10\n",
    "breaks <- seq(min(randoms),\n",
    "              max(randoms),\n",
    "              length.out = num_bins + 1)"
   ]
  },
  {
   "cell_type": "markdown",
   "metadata": {},
   "source": [
    "### Counting Frequencies\n",
    "\n",
    "We count how many values fall into each bin to determine the observed frequency distribution."
   ]
  },
  {
   "cell_type": "code",
   "execution_count": 5,
   "metadata": {
    "vscode": {
     "languageId": "r"
    }
   },
   "outputs": [],
   "source": [
    "freq <- table(cut(randoms,\n",
    "                  breaks = breaks,\n",
    "                  include.lowest = TRUE))"
   ]
  },
  {
   "cell_type": "markdown",
   "metadata": {},
   "source": [
    "### Computing Expected Frequencies\n",
    "\n",
    "Under uniformity, we expect each bin to contain approximately the same number of values. The expected frequency is calculated as:\n",
    "\n",
    "$$\n",
    "\\text{Expected Frequency} = \\frac{\\text{Total Count of Numbers}}{\\text{Number of Bins}}\n",
    "$$"
   ]
  },
  {
   "cell_type": "code",
   "execution_count": 6,
   "metadata": {
    "vscode": {
     "languageId": "r"
    }
   },
   "outputs": [],
   "source": [
    "expected <- rep(length(randoms) / num_bins, num_bins)"
   ]
  },
  {
   "cell_type": "markdown",
   "metadata": {},
   "source": [
    "### Performing the Chi-Squared Test\n",
    "\n",
    "We use the Chi-Squared test to compare the observed frequencies with the expected uniform distribution."
   ]
  },
  {
   "cell_type": "code",
   "execution_count": 7,
   "metadata": {
    "vscode": {
     "languageId": "r"
    }
   },
   "outputs": [
    {
     "name": "stdout",
     "output_type": "stream",
     "text": [
      "\n",
      "\tChi-squared test for given probabilities\n",
      "\n",
      "data:  freq\n",
      "X-squared = 12.8, df = 9, p-value = 0.1719\n",
      "\n"
     ]
    }
   ],
   "source": [
    "chi_test <- chisq.test(freq,\n",
    "                       p = expected / sum(expected))\n",
    "print(chi_test)"
   ]
  },
  {
   "cell_type": "markdown",
   "metadata": {},
   "source": [
    "## Interpretation of the Frequency Test Results\n",
    "\n",
    "The Chi-Squared test provides a p-value, which helps us determine if the numbers are uniformly distributed:\n",
    "\n",
    "- **$\\text{p-value} > 0.05$**: The difference between observed and expected frequencies is statistically significant, meaning the numbers *are not* uniformly distributed.\n",
    "- **$\\text{p-value} \\ge 0.05$**: There is no significant deviation, meaning we *fail to reject* the hypothesis that the numbers are uniformly distributed."
   ]
  }
 ],
 "metadata": {
  "kernelspec": {
   "display_name": "R",
   "language": "R",
   "name": "ir"
  },
  "language_info": {
   "codemirror_mode": "r",
   "file_extension": ".r",
   "mimetype": "text/x-r-source",
   "name": "R",
   "pygments_lexer": "r",
   "version": "4.4.2"
  }
 },
 "nbformat": 4,
 "nbformat_minor": 2
}
