{
 "cells": [
  {
   "cell_type": "markdown",
   "metadata": {},
   "source": [
    "## Chi-Squared ($\\chi ^ 2$) Test for Uniformity\n",
    "\n",
    "The Chi-Squared test is used to compare the observed frequencies of events to expected frequencies, which are based on a hypothesis of a uniform distribution. If the observed frequencies match the expected frequencies, the numbers are considered uniformly distributed."
   ]
  },
  {
   "cell_type": "code",
   "execution_count": 7,
   "metadata": {
    "vscode": {
     "languageId": "r"
    }
   },
   "outputs": [],
   "source": [
    "#| message: FALSE\n",
    "library(dplyr)\n",
    "library(tidyverse)"
   ]
  },
  {
   "cell_type": "markdown",
   "metadata": {},
   "source": [
    "### Loading the Data\n",
    "\n",
    "We load the random numbers from a CSV file to analyze their distribution."
   ]
  },
  {
   "cell_type": "code",
   "execution_count": 8,
   "metadata": {
    "vscode": {
     "languageId": "r"
    }
   },
   "outputs": [],
   "source": [
    "randoms <- read.csv(\"../Data/randoms2.csv\")$n\n",
    "\n",
    "max_val <- 10\n",
    "min_val <- 0"
   ]
  },
  {
   "cell_type": "markdown",
   "metadata": {},
   "source": [
    "### Creating Bins\n",
    "\n",
    "The numbers will be grouped into bins for comparison. We use a binning method to divide the range [min, max] into 10 equal intervals. This helps in comparing observed versus expected frequency in each bin."
   ]
  },
  {
   "cell_type": "code",
   "execution_count": 9,
   "metadata": {
    "vscode": {
     "languageId": "r"
    }
   },
   "outputs": [],
   "source": [
    "bins <- cut(randoms,\n",
    "            breaks = seq(min_val, max_val,\n",
    "                         length.out = 11),\n",
    "            include.lowest = TRUE)"
   ]
  },
  {
   "cell_type": "markdown",
   "metadata": {},
   "source": [
    "### Frequency Calculation\n",
    "\n",
    "We count how many numbers fall into each bin. This gives us the observed frequencies for the test."
   ]
  },
  {
   "cell_type": "code",
   "execution_count": 10,
   "metadata": {
    "vscode": {
     "languageId": "r"
    }
   },
   "outputs": [],
   "source": [
    "freq <- table(bins)"
   ]
  },
  {
   "cell_type": "markdown",
   "metadata": {},
   "source": [
    "### Expected Frequency\n",
    "\n",
    "Under a uniform distribution, we expect the numbers to be evenly distributed across the bins. The expected frequency for each bin is the total number of random numbers divided by the number of bins."
   ]
  },
  {
   "cell_type": "code",
   "execution_count": 11,
   "metadata": {
    "vscode": {
     "languageId": "r"
    }
   },
   "outputs": [],
   "source": [
    "expected <- rep(length(randoms) / length(freq),\n",
    "                length(freq))"
   ]
  },
  {
   "cell_type": "markdown",
   "metadata": {},
   "source": [
    "### Running the Chi-Squared Test\n",
    "\n",
    "We now apply the Chi-Squared test to check whether the observed frequencies significantly deviate from the expected frequencies for a uniform distribution."
   ]
  },
  {
   "cell_type": "code",
   "execution_count": 12,
   "metadata": {
    "vscode": {
     "languageId": "r"
    }
   },
   "outputs": [
    {
     "name": "stdout",
     "output_type": "stream",
     "text": [
      "\n",
      "\tChi-squared test for given probabilities\n",
      "\n",
      "data:  freq\n",
      "X-squared = 12.8, df = 9, p-value = 0.1719\n",
      "\n"
     ]
    }
   ],
   "source": [
    "chi_test <- chisq.test(freq,\n",
    "                       p = expected / sum(expected))\n",
    "\n",
    "print(chi_test)"
   ]
  },
  {
   "cell_type": "markdown",
   "metadata": {},
   "source": [
    "## Interpreting the Results\n",
    "\n",
    "The Chi-Squared test provides a p-value which tells us whether there is a significant difference between the observed and expected frequencies. A low p-value (<0.05) suggests that the random numbers are not uniformly distributed, while a high p-value indicates no significant difference, supporting the hypothesis of uniformity.\n",
    "\n",
    "- **$\\text{p-value} > 0.05$**: There is significant evidence that the random numbers are not uniformly distributed.\n",
    "- **$\\text{p-value} \\ge 0.05$**: There is insufficient evidence to reject the hypothesis that the random numbers are uniformly distributed."
   ]
  }
 ],
 "metadata": {
  "kernelspec": {
   "display_name": "R",
   "language": "R",
   "name": "ir"
  },
  "language_info": {
   "codemirror_mode": "r",
   "file_extension": ".r",
   "mimetype": "text/x-r-source",
   "name": "R",
   "pygments_lexer": "r",
   "version": "4.4.2"
  }
 },
 "nbformat": 4,
 "nbformat_minor": 2
}
