{
 "cells": [
  {
   "cell_type": "markdown",
   "metadata": {},
   "source": [
    "## Permutation Test for Patterns & Dependencies \n",
    "\n",
    "A **permutation test** is used to assess whether the observed data deviates significantly from the null hypothesis (uniform distribution in this case). This method involves:\n",
    "- Dividing the data into blocks of fixed size.\n",
    "- Calculating a test statistic based on the block means.\n",
    "- Permuting (shuffling) the data many times and recalculating the statistic each time.\n",
    "- Comparing the observed statistic to the permuted statistics."
   ]
  },
  {
   "cell_type": "code",
   "execution_count": 2,
   "metadata": {
    "vscode": {
     "languageId": "r"
    }
   },
   "outputs": [],
   "source": [
    "library(dplyr)\n",
    "library(tidyverse)"
   ]
  },
  {
   "cell_type": "markdown",
   "metadata": {},
   "source": [
    "### Loading the Data\n",
    "\n",
    "We load the dataset containing the random numbers that we want to test."
   ]
  },
  {
   "cell_type": "code",
   "execution_count": 3,
   "metadata": {
    "vscode": {
     "languageId": "r"
    }
   },
   "outputs": [],
   "source": [
    "randoms <- read.csv(\"../../Data/randoms2.csv\")$n"
   ]
  },
  {
   "cell_type": "markdown",
   "metadata": {},
   "source": [
    "### Block Size\n",
    "\n",
    "We define the block size for our permutation test."
   ]
  },
  {
   "cell_type": "code",
   "execution_count": 4,
   "metadata": {
    "vscode": {
     "languageId": "r"
    }
   },
   "outputs": [],
   "source": [
    "block_size <- 5"
   ]
  },
  {
   "cell_type": "markdown",
   "metadata": {},
   "source": [
    "### Test Statistic: Mean of Block Means\n",
    "\n",
    "We compute the **mean of the means of blocks**. This statistic will be used to assess the dataset."
   ]
  },
  {
   "cell_type": "code",
   "execution_count": null,
   "metadata": {
    "vscode": {
     "languageId": "r"
    }
   },
   "outputs": [
    {
     "name": "stdout",
     "output_type": "stream",
     "text": [
      "Observed Statistic: 5.04 \n"
     ]
    }
   ],
   "source": [
    "calculate_statistic <- function(data, block_size) {\n",
    "  num_blocks <- length(data) %/% block_size\n",
    "  data_trimmed <- data[1:(num_blocks * block_size)]\n",
    "\n",
    "  blocks <- matrix(data_trimmed, nrow = block_size, byrow = TRUE)\n",
    "  block_means <- colMeans(blocks)\n",
    "\n",
    "  return(mean(block_means))\n",
    "}\n",
    "\n",
    "observed_stat <- calculate_statistic(randoms, block_size)\n",
    "cat(\"Observed Statistic:\", observed_stat, \"\\n\")"
   ]
  },
  {
   "cell_type": "markdown",
   "metadata": {},
   "source": [
    "### Running the Permutation Test\n",
    "\n",
    "We run the **permutation test** by shuffling the data many times, computing the statistic for each permutation, and comparing it to the observed statistic."
   ]
  },
  {
   "cell_type": "code",
   "execution_count": 17,
   "metadata": {
    "vscode": {
     "languageId": "r"
    }
   },
   "outputs": [
    {
     "name": "stdout",
     "output_type": "stream",
     "text": [
      "\n",
      "Permutation test result for randoms:\n",
      "Observed Statistic: 5.04 \n",
      "P-value: 1 \n"
     ]
    }
   ],
   "source": [
    "permutation_test <- function(data, block_size, num_permutations = 1000) {\n",
    "  observed_stat <- calculate_statistic(data, block_size)\n",
    "\n",
    "  permuted_stats <- replicate(num_permutations, {\n",
    "    permuted_data <- sample(data)\n",
    "    calculate_statistic(permuted_data, block_size)\n",
    "  })\n",
    "\n",
    "  p_value <- mean(abs(permuted_stats) >= abs(observed_stat))\n",
    "\n",
    "  return(list(observed_stat = observed_stat,\n",
    "              p_value = p_value,\n",
    "              permuted_stats = permuted_stats))\n",
    "}\n",
    "\n",
    "perm_test <- permutation_test(randoms, block_size)\n",
    "\n",
    "cat(\"\\nPermutation test result for randoms:\\n\")\n",
    "cat(\"Observed Statistic:\", perm_test$observed_stat, \"\\n\")\n",
    "cat(\"P-value:\", perm_test$p_value, \"\\n\")\n",
    "# cat(perm_test$permuted_stats)"
   ]
  },
  {
   "cell_type": "markdown",
   "metadata": {},
   "source": [
    "## Interpretation of the Permutation Test Results\n",
    "\n",
    "- **Observed Statistic**: The mean of the block means for the observed data.\n",
    "- **$\\text{p-value} > 0.05$**: The difference is statistically significant, suggesting that the numbers are *not* uniformly distributed.\n",
    "- **$\\text{p-value} \\ge 0.05$**: There is no significant difference, meaning we *fail to reject* the hypothesis that the numbers are uniformly distributed.\n"
   ]
  }
 ],
 "metadata": {
  "kernelspec": {
   "display_name": "R",
   "language": "R",
   "name": "ir"
  },
  "language_info": {
   "codemirror_mode": "r",
   "file_extension": ".r",
   "mimetype": "text/x-r-source",
   "name": "R",
   "pygments_lexer": "r",
   "version": "4.4.2"
  }
 },
 "nbformat": 4,
 "nbformat_minor": 2
}
