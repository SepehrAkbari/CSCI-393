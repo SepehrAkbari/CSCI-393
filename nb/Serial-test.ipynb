{
 "cells": [
  {
   "cell_type": "markdown",
   "metadata": {},
   "source": [
    "## Serial Test for Patterns & Dependencies\n",
    "\n",
    "The **serial test** detects correlations between consecutive values in a random sequence. If the numbers are truly uniform and independent, the **lag-1 autocorrelation** should be close to zero.\n",
    "\n",
    "Autocorrelation at lag-1 is calculated as:\n",
    "\n",
    "$$\n",
    "r_1 = \\frac{ \\sum_{i=1}^{n-1} (X_i - \\bar{X})(X_{i+1} - \\bar{X})}{\\sum_{i=1}^{n} (X_i - \\bar{X})^2}\n",
    "$$\n",
    "\n",
    "where:\n",
    "- $X_i$ are the random numbers.\n",
    "- $\\bar{X}$ is the mean of the dataset."
   ]
  },
  {
   "cell_type": "code",
   "execution_count": 2,
   "metadata": {
    "vscode": {
     "languageId": "r"
    }
   },
   "outputs": [],
   "source": [
    "library(dplyr)\n",
    "library(tidyverse)"
   ]
  },
  {
   "cell_type": "markdown",
   "metadata": {},
   "source": [
    "### Loading the Data\n",
    "\n",
    "We load the dataset containing the random numbers."
   ]
  },
  {
   "cell_type": "code",
   "execution_count": 4,
   "metadata": {
    "vscode": {
     "languageId": "r"
    }
   },
   "outputs": [],
   "source": [
    "randoms <- read.csv(\"../Data/randoms2.csv\")$n"
   ]
  },
  {
   "cell_type": "markdown",
   "metadata": {},
   "source": [
    "### Scaling the Data\n",
    "\n",
    "Since we need to check patterns in a normalized range, we scale the dataset using min-max scaling."
   ]
  },
  {
   "cell_type": "code",
   "execution_count": 6,
   "metadata": {
    "vscode": {
     "languageId": "r"
    }
   },
   "outputs": [],
   "source": [
    "randoms_scaled <- (randoms - min(randoms)) / (max(randoms) - min(randoms))"
   ]
  },
  {
   "cell_type": "markdown",
   "metadata": {},
   "source": [
    "### Computing Lag-1 Autocorrelation\n",
    "\n",
    "We compute the lag-1 autocorrelation using Pearson’s correlation formula."
   ]
  },
  {
   "cell_type": "code",
   "execution_count": 7,
   "metadata": {
    "vscode": {
     "languageId": "r"
    }
   },
   "outputs": [
    {
     "name": "stdout",
     "output_type": "stream",
     "text": [
      "Lag-1 autocorrelation for randoms (scaled to [0,1]): -0.03065104 \n"
     ]
    }
   ],
   "source": [
    "lag_1_autocorrelation <- function(data) {\n",
    "  if (var(data) == 0) {\n",
    "    return(NA)\n",
    "  }\n",
    "  return(cor(data[-length(data)], data[-1]))\n",
    "}\n",
    "\n",
    "serial_test <- lag_1_autocorrelation(randoms_scaled)\n",
    "\n",
    "cat(\"Lag-1 autocorrelation for randoms (scaled to [0,1]):\", serial_test, \"\\n\")"
   ]
  },
  {
   "cell_type": "markdown",
   "metadata": {},
   "source": [
    "## Interpretation of the Serial Test Results\n",
    "\n",
    "- If the lag-1 autocorrelation is **close to 0**, the sequence is likely independent.\n",
    "- If the value is **significantly positive**, the sequence may have clustering or a predictable pattern.\n",
    "- If the value is **significantly negative**, the sequence may have an alternating pattern.\n",
    "- A uniform random sequence should ideally have a lag-1 autocorrelation close to **zero**."
   ]
  }
 ],
 "metadata": {
  "kernelspec": {
   "display_name": "R",
   "language": "R",
   "name": "ir"
  },
  "language_info": {
   "codemirror_mode": "r",
   "file_extension": ".r",
   "mimetype": "text/x-r-source",
   "name": "R",
   "pygments_lexer": "r",
   "version": "4.4.2"
  }
 },
 "nbformat": 4,
 "nbformat_minor": 2
}
