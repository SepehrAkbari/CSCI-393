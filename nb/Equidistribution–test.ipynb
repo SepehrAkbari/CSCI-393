{
 "cells": [
  {
   "cell_type": "markdown",
   "metadata": {},
   "source": [
    "## Equidistribution Test for Uniformity\n",
    "\n",
    "The **equidistribution test** evaluates uniformity by checking whether the **empirical mean** of a dataset matches the expected integral of a uniform distribution.\n",
    "\n",
    "For a truly uniform distribution over $[n,m]$, the expected mean is given by:\n",
    "\n",
    "$$\n",
    "E[X] = \\int_n^m x \\, dx = \\frac{1}{2} (m^2 - n^2)\n",
    "$$\n",
    "\n",
    "If we investigate over $[0,1]$, the expected mean is $E[X] = \\frac{1}{2}$.\n",
    "\n",
    "If the empirical mean of the dataset is close to this expected value, it suggests uniformity."
   ]
  },
  {
   "cell_type": "code",
   "execution_count": 17,
   "metadata": {
    "vscode": {
     "languageId": "r"
    }
   },
   "outputs": [],
   "source": [
    "library(dplyr)\n",
    "library(tidyverse)"
   ]
  },
  {
   "cell_type": "markdown",
   "metadata": {},
   "source": [
    "### Loading the Data\n",
    "\n",
    "We load the random numbers from a CSV file to analyze their distribution."
   ]
  },
  {
   "cell_type": "code",
   "execution_count": 18,
   "metadata": {
    "vscode": {
     "languageId": "r"
    }
   },
   "outputs": [],
   "source": [
    "randoms <- read.csv(\"../Data/randoms2.csv\")$n\n",
    "\n",
    "max_val <- 10\n",
    "min_val <- 0"
   ]
  },
  {
   "cell_type": "markdown",
   "metadata": {},
   "source": [
    "### Scaling the Data\n",
    "\n",
    "Since the equidistribution test assumes values in the range $[0,1]$, we scale the data to this range."
   ]
  },
  {
   "cell_type": "code",
   "execution_count": 19,
   "metadata": {
    "vscode": {
     "languageId": "r"
    }
   },
   "outputs": [],
   "source": [
    "randoms_scaled <- (randoms - min(randoms)) / (max(randoms) - min(randoms))"
   ]
  },
  {
   "cell_type": "markdown",
   "metadata": {},
   "source": [
    "### Computing the Empirical Mean\n",
    "\n",
    "We compute the empirical mean of the dataset:\n",
    "\n",
    "$$\n",
    "\\bar{X} = \\frac{1}{n} \\sum_{i=1}^{n} X_i\n",
    "$$"
   ]
  },
  {
   "cell_type": "code",
   "execution_count": 20,
   "metadata": {
    "vscode": {
     "languageId": "r"
    }
   },
   "outputs": [
    {
     "name": "stdout",
     "output_type": "stream",
     "text": [
      "Empirical mean for randoms (scaled to [0,1]): 0.504"
     ]
    }
   ],
   "source": [
    "empirical_mean <- function(x){\n",
    "  return(mean(x))\n",
    "}\n",
    "\n",
    "empirical_mean_val <- empirical_mean(randoms_scaled)\n",
    "cat(\"Empirical mean for randoms (scaled to [0,1]):\", empirical_mean_val)"
   ]
  },
  {
   "cell_type": "markdown",
   "metadata": {},
   "source": [
    "### Expected Mean from the Uniform Distribution\n",
    "\n",
    "For a uniform distribution $U(0,1)$, the expected mean is:\n",
    "\n",
    "$$\n",
    "E[X] = \\int_0^1 x \\, dx = 0.5\n",
    "$$\n",
    "\n",
    "We define this as a function."
   ]
  },
  {
   "cell_type": "code",
   "execution_count": 21,
   "metadata": {
    "vscode": {
     "languageId": "r"
    }
   },
   "outputs": [
    {
     "name": "stdout",
     "output_type": "stream",
     "text": [
      "Expected integral value of f(x) = x over [0,1]: 0.5"
     ]
    }
   ],
   "source": [
    "integral_f <- function() {\n",
    "  return(0.5)\n",
    "}\n",
    "\n",
    "cat(\"Expected integral value of f(x) = x over [0,1]:\", integral_f())"
   ]
  },
  {
   "cell_type": "markdown",
   "metadata": {},
   "source": [
    "### Computing the Difference\n",
    "\n",
    "We calculate the absolute difference between the empirical mean and the expected mean."
   ]
  },
  {
   "cell_type": "code",
   "execution_count": 22,
   "metadata": {
    "vscode": {
     "languageId": "r"
    }
   },
   "outputs": [
    {
     "name": "stdout",
     "output_type": "stream",
     "text": [
      "Difference for randoms: 0.004"
     ]
    }
   ],
   "source": [
    "diff <- abs(empirical_mean_value - integral_f())\n",
    "\n",
    "cat(\"Difference for randoms:\", diff)"
   ]
  },
  {
   "cell_type": "markdown",
   "metadata": {},
   "source": [
    "## Interpretation of the Equidistribution Test Results\n",
    "\n",
    "- If the empirical mean is **close to 0.5**, the dataset is likely uniform.\n",
    "- If the empirical mean **deviates significantly** from 0.5, the data may not be uniformly distributed.\n",
    "- The **absolute difference** quantifies the deviation from uniformity. A smaller value suggests a more uniform distribution."
   ]
  }
 ],
 "metadata": {
  "kernelspec": {
   "display_name": "R",
   "language": "R",
   "name": "ir"
  },
  "language_info": {
   "codemirror_mode": "r",
   "file_extension": ".r",
   "mimetype": "text/x-r-source",
   "name": "R",
   "pygments_lexer": "r",
   "version": "4.4.2"
  }
 },
 "nbformat": 4,
 "nbformat_minor": 2
}
