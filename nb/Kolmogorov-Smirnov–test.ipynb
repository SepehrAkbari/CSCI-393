{
 "cells": [
  {
   "cell_type": "markdown",
   "metadata": {},
   "source": [
    "## Kolmogorov–Smirnov (KS) Test for Uniformity\n",
    "\n",
    "The KS test compares a sample distribution with a reference distribution. It measures the maximum difference between the cumulative distribution function (CDF) of the sample and the theoretical CDF."
   ]
  },
  {
   "cell_type": "code",
   "execution_count": 11,
   "metadata": {
    "vscode": {
     "languageId": "r"
    }
   },
   "outputs": [],
   "source": [
    "library(dplyr)\n",
    "library(tidyverse)"
   ]
  },
  {
   "cell_type": "markdown",
   "metadata": {},
   "source": [
    "\n",
    "\n",
    "### Loading the Data\n",
    "\n",
    "We load the random numbers from a CSV file to analyze their distribution."
   ]
  },
  {
   "cell_type": "code",
   "execution_count": 4,
   "metadata": {
    "vscode": {
     "languageId": "r"
    }
   },
   "outputs": [],
   "source": [
    "randoms <- read.csv(\"../Data/randoms2.csv\")$n\n",
    "\n",
    "max_val <- 10\n",
    "min_val <- 0"
   ]
  },
  {
   "cell_type": "markdown",
   "metadata": {},
   "source": [
    "### Scaling the Data\n",
    "\n",
    "To apply the KS test, we ensure the data is within the range [0,1]. If the data already follows this range, no transformation is needed. Otherwise, we use min-max scaling."
   ]
  },
  {
   "cell_type": "code",
   "execution_count": 5,
   "metadata": {
    "vscode": {
     "languageId": "r"
    }
   },
   "outputs": [],
   "source": [
    "randoms_scaled <- (randoms - min(randoms)) / (max(randoms) - min(randoms))"
   ]
  },
  {
   "cell_type": "markdown",
   "metadata": {},
   "source": [
    "### Performing the KS Test\n",
    "\n",
    "We perform the KS test to compare the empirical distribution of our random numbers against a uniform distribution."
   ]
  },
  {
   "cell_type": "code",
   "execution_count": 12,
   "metadata": {
    "vscode": {
     "languageId": "r"
    }
   },
   "outputs": [
    {
     "name": "stderr",
     "output_type": "stream",
     "text": [
      "Warning message in ks.test.default(randoms_scaled, \"punif\"):\n",
      "\"ties should not be present for the one-sample Kolmogorov-Smirnov test\"\n"
     ]
    },
    {
     "name": "stdout",
     "output_type": "stream",
     "text": [
      "\n",
      "\tAsymptotic one-sample Kolmogorov-Smirnov test\n",
      "\n",
      "data:  randoms_scaled\n",
      "D = 0.13, p-value = 0.06809\n",
      "alternative hypothesis: two-sided\n",
      "\n"
     ]
    }
   ],
   "source": [
    "ks_test <- ks.test(randoms_scaled,\n",
    "                   \"punif\")\n",
    "print(ks_test)"
   ]
  },
  {
   "cell_type": "markdown",
   "metadata": {},
   "source": [
    "## Interpretation of the KS Test Results\n",
    "\n",
    "The KS test provides a p-value indicating whether the sample distribution significantly differs from the uniform distribution:\n",
    "\n",
    "- **$\\text{p-value} > 0.05$**: The difference is statistically significant, suggesting that the numbers are *not* uniformly distributed.\n",
    "- **$\\text{p-value} \\ge 0.05$**: There is no significant difference, meaning we *fail to reject* the hypothesis that the numbers are uniformly distributed.\n",
    "\n",
    "Additionally, the test statistic `D` represents the maximum difference between the sample's empirical CDF and the uniform CDF. A smaller `D` value suggests the numbers are closer to being truly uniform."
   ]
  }
 ],
 "metadata": {
  "kernelspec": {
   "display_name": "R",
   "language": "R",
   "name": "ir"
  },
  "language_info": {
   "codemirror_mode": "r",
   "file_extension": ".r",
   "mimetype": "text/x-r-source",
   "name": "R",
   "pygments_lexer": "r",
   "version": "4.4.2"
  }
 },
 "nbformat": 4,
 "nbformat_minor": 2
}
