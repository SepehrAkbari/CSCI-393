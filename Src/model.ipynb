{
 "cells": [
  {
   "cell_type": "code",
   "execution_count": 2,
   "metadata": {},
   "outputs": [],
   "source": [
    "import pandas as pd\n",
    "import numpy as np\n",
    "import matplotlib.pyplot as plt\n",
    "from sklearn.decomposition import PCA\n",
    "from sklearn.preprocessing import StandardScaler"
   ]
  },
  {
   "cell_type": "code",
   "execution_count": 6,
   "metadata": {},
   "outputs": [
    {
     "data": {
      "application/vnd.microsoft.datawrangler.viewer.v0+json": {
       "columns": [
        {
         "name": "index",
         "rawType": "int64",
         "type": "integer"
        },
        {
         "name": "sequence_label",
         "rawType": "object",
         "type": "string"
        },
        {
         "name": "chirsqr_p",
         "rawType": "float64",
         "type": "float"
        },
        {
         "name": "chisqr_X2.X-squared",
         "rawType": "float64",
         "type": "float"
        },
        {
         "name": "chisqr_df.df",
         "rawType": "int64",
         "type": "integer"
        },
        {
         "name": "ks_p",
         "rawType": "float64",
         "type": "float"
        },
        {
         "name": "ks_D.D",
         "rawType": "float64",
         "type": "float"
        },
        {
         "name": "freq_p",
         "rawType": "float64",
         "type": "float"
        },
        {
         "name": "freq_X2.X-squared",
         "rawType": "float64",
         "type": "float"
        },
        {
         "name": "freq_df.df",
         "rawType": "int64",
         "type": "integer"
        },
        {
         "name": "eqdist_diff",
         "rawType": "float64",
         "type": "float"
        },
        {
         "name": "eqdist_empiricalMean",
         "rawType": "float64",
         "type": "float"
        },
        {
         "name": "gap_p",
         "rawType": "float64",
         "type": "float"
        },
        {
         "name": "gap_X2.X-squared",
         "rawType": "float64",
         "type": "float"
        },
        {
         "name": "gap_df.df",
         "rawType": "int64",
         "type": "integer"
        },
        {
         "name": "serial_autocorrelation",
         "rawType": "float64",
         "type": "float"
        },
        {
         "name": "perm_observed_stat",
         "rawType": "float64",
         "type": "float"
        },
        {
         "name": "perm_p",
         "rawType": "int64",
         "type": "integer"
        },
        {
         "name": "entropy_val",
         "rawType": "float64",
         "type": "float"
        },
        {
         "name": "fft_dominant_frequency",
         "rawType": "float64",
         "type": "float"
        },
        {
         "name": "fft_dominant_period",
         "rawType": "float64",
         "type": "float"
        },
        {
         "name": "fft_max_magnitude",
         "rawType": "float64",
         "type": "float"
        }
       ],
       "conversionMethod": "pd.DataFrame",
       "ref": "2af38b4f-abfa-4f56-90f8-3fb7dd4a9d80",
       "rows": [
        [
         "0",
         "randoms-1",
         "4.52309202120639e-06",
         "41.24",
         "9",
         "4.01514172449902e-05",
         "0.104",
         "4.52309202120639e-06",
         "41.24",
         "9",
         "0.0146",
         "0.4854",
         "5.97398345713606e-108",
         "634.069387755102",
         "40",
         "0.0623389164301799",
         "4.854",
         "1",
         "3.27121528335905",
         "0.096",
         "10.4166666666667",
         "175.438883561187"
        ],
        [
         "1",
         "randoms-10",
         "1.04273609815309e-05",
         "39.24",
         "9",
         "0.0001988712714996",
         "0.096",
         "1.04273609815309e-05",
         "39.24",
         "9",
         "0.005",
         "0.505",
         "6.61227867075976e-138",
         "789.232653061224",
         "43",
         "-0.0423221417763274",
         "5.05",
         "1",
         "3.27246199772578",
         "0.338",
         "2.9585798816568",
         "181.936265616827"
        ],
        [
         "2",
         "randoms-2",
         "8.29822807094323e-10",
         "61.08",
         "9",
         "0.000134916725306",
         "0.098",
         "8.29822807094323e-10",
         "61.08",
         "9",
         "0.0047999999999999",
         "0.4952",
         "4.32342817034723e-146",
         "835.175510204082",
         "45",
         "0.017528604579593",
         "4.952",
         "1",
         "3.24729544223207",
         "0.182",
         "5.49450549450549",
         "153.500962454854"
        ],
        [
         "3",
         "randoms-3",
         "1.99621131541814e-11",
         "69.4",
         "9",
         "4.20066493879215e-07",
         "0.124",
         "1.99621131541814e-11",
         "69.4",
         "9",
         "0.0378",
         "0.4622",
         "8.647443990977491e-148",
         "846.526530612245",
         "46",
         "-0.0798718801473693",
         "4.622",
         "1",
         "3.23359300941638",
         "0.232",
         "4.31034482758621",
         "165.118625438271"
        ],
        [
         "4",
         "randoms-4",
         "0.0002735289625436",
         "31.2",
         "9",
         "6.06219924238892e-05",
         "0.102",
         "0.0002735289625436",
         "31.2",
         "9",
         "0.0168",
         "0.5168",
         "7.91997383900994e-118",
         "691.355102040816",
         "43",
         "-0.0850298207001123",
         "5.168",
         "1",
         "3.27942369520025",
         "0.468",
         "2.13675213675214",
         "165.098372335017"
        ]
       ],
       "shape": {
        "columns": 21,
        "rows": 5
       }
      },
      "text/html": [
       "<div>\n",
       "<style scoped>\n",
       "    .dataframe tbody tr th:only-of-type {\n",
       "        vertical-align: middle;\n",
       "    }\n",
       "\n",
       "    .dataframe tbody tr th {\n",
       "        vertical-align: top;\n",
       "    }\n",
       "\n",
       "    .dataframe thead th {\n",
       "        text-align: right;\n",
       "    }\n",
       "</style>\n",
       "<table border=\"1\" class=\"dataframe\">\n",
       "  <thead>\n",
       "    <tr style=\"text-align: right;\">\n",
       "      <th></th>\n",
       "      <th>sequence_label</th>\n",
       "      <th>chirsqr_p</th>\n",
       "      <th>chisqr_X2.X-squared</th>\n",
       "      <th>chisqr_df.df</th>\n",
       "      <th>ks_p</th>\n",
       "      <th>ks_D.D</th>\n",
       "      <th>freq_p</th>\n",
       "      <th>freq_X2.X-squared</th>\n",
       "      <th>freq_df.df</th>\n",
       "      <th>eqdist_diff</th>\n",
       "      <th>...</th>\n",
       "      <th>gap_p</th>\n",
       "      <th>gap_X2.X-squared</th>\n",
       "      <th>gap_df.df</th>\n",
       "      <th>serial_autocorrelation</th>\n",
       "      <th>perm_observed_stat</th>\n",
       "      <th>perm_p</th>\n",
       "      <th>entropy_val</th>\n",
       "      <th>fft_dominant_frequency</th>\n",
       "      <th>fft_dominant_period</th>\n",
       "      <th>fft_max_magnitude</th>\n",
       "    </tr>\n",
       "  </thead>\n",
       "  <tbody>\n",
       "    <tr>\n",
       "      <th>0</th>\n",
       "      <td>randoms-1</td>\n",
       "      <td>4.523092e-06</td>\n",
       "      <td>41.24</td>\n",
       "      <td>9</td>\n",
       "      <td>4.015142e-05</td>\n",
       "      <td>0.104</td>\n",
       "      <td>4.523092e-06</td>\n",
       "      <td>41.24</td>\n",
       "      <td>9</td>\n",
       "      <td>0.0146</td>\n",
       "      <td>...</td>\n",
       "      <td>5.973983e-108</td>\n",
       "      <td>634.069388</td>\n",
       "      <td>40</td>\n",
       "      <td>0.062339</td>\n",
       "      <td>4.854</td>\n",
       "      <td>1</td>\n",
       "      <td>3.271215</td>\n",
       "      <td>0.096</td>\n",
       "      <td>10.416667</td>\n",
       "      <td>175.438884</td>\n",
       "    </tr>\n",
       "    <tr>\n",
       "      <th>1</th>\n",
       "      <td>randoms-10</td>\n",
       "      <td>1.042736e-05</td>\n",
       "      <td>39.24</td>\n",
       "      <td>9</td>\n",
       "      <td>1.988713e-04</td>\n",
       "      <td>0.096</td>\n",
       "      <td>1.042736e-05</td>\n",
       "      <td>39.24</td>\n",
       "      <td>9</td>\n",
       "      <td>0.0050</td>\n",
       "      <td>...</td>\n",
       "      <td>6.612279e-138</td>\n",
       "      <td>789.232653</td>\n",
       "      <td>43</td>\n",
       "      <td>-0.042322</td>\n",
       "      <td>5.050</td>\n",
       "      <td>1</td>\n",
       "      <td>3.272462</td>\n",
       "      <td>0.338</td>\n",
       "      <td>2.958580</td>\n",
       "      <td>181.936266</td>\n",
       "    </tr>\n",
       "    <tr>\n",
       "      <th>2</th>\n",
       "      <td>randoms-2</td>\n",
       "      <td>8.298228e-10</td>\n",
       "      <td>61.08</td>\n",
       "      <td>9</td>\n",
       "      <td>1.349167e-04</td>\n",
       "      <td>0.098</td>\n",
       "      <td>8.298228e-10</td>\n",
       "      <td>61.08</td>\n",
       "      <td>9</td>\n",
       "      <td>0.0048</td>\n",
       "      <td>...</td>\n",
       "      <td>4.323428e-146</td>\n",
       "      <td>835.175510</td>\n",
       "      <td>45</td>\n",
       "      <td>0.017529</td>\n",
       "      <td>4.952</td>\n",
       "      <td>1</td>\n",
       "      <td>3.247295</td>\n",
       "      <td>0.182</td>\n",
       "      <td>5.494505</td>\n",
       "      <td>153.500962</td>\n",
       "    </tr>\n",
       "    <tr>\n",
       "      <th>3</th>\n",
       "      <td>randoms-3</td>\n",
       "      <td>1.996211e-11</td>\n",
       "      <td>69.40</td>\n",
       "      <td>9</td>\n",
       "      <td>4.200665e-07</td>\n",
       "      <td>0.124</td>\n",
       "      <td>1.996211e-11</td>\n",
       "      <td>69.40</td>\n",
       "      <td>9</td>\n",
       "      <td>0.0378</td>\n",
       "      <td>...</td>\n",
       "      <td>8.647444e-148</td>\n",
       "      <td>846.526531</td>\n",
       "      <td>46</td>\n",
       "      <td>-0.079872</td>\n",
       "      <td>4.622</td>\n",
       "      <td>1</td>\n",
       "      <td>3.233593</td>\n",
       "      <td>0.232</td>\n",
       "      <td>4.310345</td>\n",
       "      <td>165.118625</td>\n",
       "    </tr>\n",
       "    <tr>\n",
       "      <th>4</th>\n",
       "      <td>randoms-4</td>\n",
       "      <td>2.735290e-04</td>\n",
       "      <td>31.20</td>\n",
       "      <td>9</td>\n",
       "      <td>6.062199e-05</td>\n",
       "      <td>0.102</td>\n",
       "      <td>2.735290e-04</td>\n",
       "      <td>31.20</td>\n",
       "      <td>9</td>\n",
       "      <td>0.0168</td>\n",
       "      <td>...</td>\n",
       "      <td>7.919974e-118</td>\n",
       "      <td>691.355102</td>\n",
       "      <td>43</td>\n",
       "      <td>-0.085030</td>\n",
       "      <td>5.168</td>\n",
       "      <td>1</td>\n",
       "      <td>3.279424</td>\n",
       "      <td>0.468</td>\n",
       "      <td>2.136752</td>\n",
       "      <td>165.098372</td>\n",
       "    </tr>\n",
       "  </tbody>\n",
       "</table>\n",
       "<p>5 rows × 21 columns</p>\n",
       "</div>"
      ],
      "text/plain": [
       "  sequence_label     chirsqr_p  chisqr_X2.X-squared  chisqr_df.df  \\\n",
       "0      randoms-1  4.523092e-06                41.24             9   \n",
       "1     randoms-10  1.042736e-05                39.24             9   \n",
       "2      randoms-2  8.298228e-10                61.08             9   \n",
       "3      randoms-3  1.996211e-11                69.40             9   \n",
       "4      randoms-4  2.735290e-04                31.20             9   \n",
       "\n",
       "           ks_p  ks_D.D        freq_p  freq_X2.X-squared  freq_df.df  \\\n",
       "0  4.015142e-05   0.104  4.523092e-06              41.24           9   \n",
       "1  1.988713e-04   0.096  1.042736e-05              39.24           9   \n",
       "2  1.349167e-04   0.098  8.298228e-10              61.08           9   \n",
       "3  4.200665e-07   0.124  1.996211e-11              69.40           9   \n",
       "4  6.062199e-05   0.102  2.735290e-04              31.20           9   \n",
       "\n",
       "   eqdist_diff  ...          gap_p  gap_X2.X-squared  gap_df.df  \\\n",
       "0       0.0146  ...  5.973983e-108        634.069388         40   \n",
       "1       0.0050  ...  6.612279e-138        789.232653         43   \n",
       "2       0.0048  ...  4.323428e-146        835.175510         45   \n",
       "3       0.0378  ...  8.647444e-148        846.526531         46   \n",
       "4       0.0168  ...  7.919974e-118        691.355102         43   \n",
       "\n",
       "   serial_autocorrelation  perm_observed_stat  perm_p  entropy_val  \\\n",
       "0                0.062339               4.854       1     3.271215   \n",
       "1               -0.042322               5.050       1     3.272462   \n",
       "2                0.017529               4.952       1     3.247295   \n",
       "3               -0.079872               4.622       1     3.233593   \n",
       "4               -0.085030               5.168       1     3.279424   \n",
       "\n",
       "   fft_dominant_frequency  fft_dominant_period  fft_max_magnitude  \n",
       "0                   0.096            10.416667         175.438884  \n",
       "1                   0.338             2.958580         181.936266  \n",
       "2                   0.182             5.494505         153.500962  \n",
       "3                   0.232             4.310345         165.118625  \n",
       "4                   0.468             2.136752         165.098372  \n",
       "\n",
       "[5 rows x 21 columns]"
      ]
     },
     "execution_count": 6,
     "metadata": {},
     "output_type": "execute_result"
    }
   ],
   "source": [
    "df = pd.read_csv('features.csv')\n",
    "df.head()"
   ]
  },
  {
   "cell_type": "code",
   "execution_count": 8,
   "metadata": {},
   "outputs": [
    {
     "name": "stdout",
     "output_type": "stream",
     "text": [
      "<class 'pandas.core.frame.DataFrame'>\n",
      "RangeIndex: 10 entries, 0 to 9\n",
      "Data columns (total 21 columns):\n",
      " #   Column                  Non-Null Count  Dtype  \n",
      "---  ------                  --------------  -----  \n",
      " 0   sequence_label          10 non-null     object \n",
      " 1   chirsqr_p               10 non-null     float64\n",
      " 2   chisqr_X2.X-squared     10 non-null     float64\n",
      " 3   chisqr_df.df            10 non-null     int64  \n",
      " 4   ks_p                    10 non-null     float64\n",
      " 5   ks_D.D                  10 non-null     float64\n",
      " 6   freq_p                  10 non-null     float64\n",
      " 7   freq_X2.X-squared       10 non-null     float64\n",
      " 8   freq_df.df              10 non-null     int64  \n",
      " 9   eqdist_diff             10 non-null     float64\n",
      " 10  eqdist_empiricalMean    10 non-null     float64\n",
      " 11  gap_p                   10 non-null     float64\n",
      " 12  gap_X2.X-squared        10 non-null     float64\n",
      " 13  gap_df.df               10 non-null     int64  \n",
      " 14  serial_autocorrelation  10 non-null     float64\n",
      " 15  perm_observed_stat      10 non-null     float64\n",
      " 16  perm_p                  10 non-null     int64  \n",
      " 17  entropy_val             10 non-null     float64\n",
      " 18  fft_dominant_frequency  10 non-null     float64\n",
      " 19  fft_dominant_period     10 non-null     float64\n",
      " 20  fft_max_magnitude       10 non-null     float64\n",
      "dtypes: float64(16), int64(4), object(1)\n",
      "memory usage: 1.8+ KB\n"
     ]
    }
   ],
   "source": [
    "df.info()"
   ]
  },
  {
   "cell_type": "code",
   "execution_count": 11,
   "metadata": {},
   "outputs": [],
   "source": [
    "X = df.drop('sequence_label', axis=1)\n",
    "y = df['sequence_label']"
   ]
  },
  {
   "cell_type": "code",
   "execution_count": null,
   "metadata": {},
   "outputs": [],
   "source": [
    "scaler = StandardScaler()\n",
    "X_scaled = scaler.fit_transform(X)\n",
    "pca = PCA(2)\n",
    "principal_components = pca.fit_transform(X_scaled)"
   ]
  },
  {
   "cell_type": "code",
   "execution_count": 14,
   "metadata": {},
   "outputs": [
    {
     "name": "stdout",
     "output_type": "stream",
     "text": [
      "[0.46516103 0.22775618]\n"
     ]
    }
   ],
   "source": [
    "pca_df = pd.DataFrame(data=principal_components, columns=['PC1', 'PC2'])\n",
    "pca_df = pd.concat([y, pca_df], axis=1)\n",
    "\n",
    "print(pca.explained_variance_ratio_)"
   ]
  },
  {
   "cell_type": "code",
   "execution_count": 16,
   "metadata": {},
   "outputs": [
    {
     "data": {
      "image/png": "[encoded data removed]",
      "text/plain": [
       "<Figure size 640x480 with 1 Axes>"
      ]
     },
     "metadata": {},
     "output_type": "display_data"
    }
   ],
   "source": [
    "plt.scatter(pca_df['PC1'], pca_df['PC2'])\n",
    "for i, label in enumerate(pca_df['sequence_label']):\n",
    "        plt.annotate(label, (pca_df['PC1'][i], pca_df['PC2'][i]))\n",
    "plt.show()"
   ]
  }
 ],
 "metadata": {
  "kernelspec": {
   "display_name": "Python 3",
   "language": "python",
   "name": "python3"
  },
  "language_info": {
   "codemirror_mode": {
    "name": "ipython",
    "version": 3
   },
   "file_extension": ".py",
   "mimetype": "text/x-python",
   "name": "python",
   "nbconvert_exporter": "python",
   "pygments_lexer": "ipython3",
   "version": "3.10.7"
  }
 },
 "nbformat": 4,
 "nbformat_minor": 2
}
