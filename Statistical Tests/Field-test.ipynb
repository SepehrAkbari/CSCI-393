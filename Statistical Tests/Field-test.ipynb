{
 "cells": [
  {
   "cell_type": "markdown",
   "metadata": {},
   "source": [
    "## Field Test for Information\n",
    "\n",
    "The idea of this made-up test, is to check and see how much of a set of numbers are providing the same information in a field. For example in a field $\\mathbb{Z}_5$ the number $2$ and $7$ are providing the same information. We can check the first `x` prime numbers as fields and see how much information is provided by the numbers in the field."
   ]
  },
  {
   "cell_type": "code",
   "execution_count": 2,
   "metadata": {
    "vscode": {
     "languageId": "r"
    }
   },
   "outputs": [],
   "source": [
    "library(dplyr)\n",
    "library(tidyverse)"
   ]
  },
  {
   "cell_type": "markdown",
   "metadata": {},
   "source": [
    "### Loading the Data\n",
    "\n",
    "We load the dataset containing the random numbers that we want to test."
   ]
  },
  {
   "cell_type": "code",
   "execution_count": 9,
   "metadata": {
    "vscode": {
     "languageId": "r"
    }
   },
   "outputs": [],
   "source": [
    "randoms <- read.csv(\"../Data/randoms2.csv\")$n\n",
    "x <- 5"
   ]
  },
  {
   "cell_type": "markdown",
   "metadata": {},
   "source": [
    "### Generating Primes\n",
    "\n",
    "We generate the first `x` prime numbers to use as fields of the form $\\mathbb{Z}_p$."
   ]
  },
  {
   "cell_type": "code",
   "execution_count": 10,
   "metadata": {
    "vscode": {
     "languageId": "r"
    }
   },
   "outputs": [],
   "source": [
    "generatePrimes <- function(x) {\n",
    "  primes <- c()\n",
    "  num <- 2\n",
    "  while (length(primes) < x) {\n",
    "    if (all(num %% primes != 0)) {\n",
    "      primes <- c(primes, num)\n",
    "    }\n",
    "    num <- num + 1\n",
    "  }\n",
    "  return(primes)\n",
    "}"
   ]
  },
  {
   "cell_type": "markdown",
   "metadata": {},
   "source": [
    "### Checking Information in a Field\n",
    "\n",
    "We can check the information in a field with taking mods of the numbers in the field with the prime number. If the mods are the same, then the numbers are providing the same information in the field $\\mathbb{Z}_{p_i}$."
   ]
  },
  {
   "cell_type": "code",
   "execution_count": 15,
   "metadata": {
    "vscode": {
     "languageId": "r"
    }
   },
   "outputs": [
    {
     "name": "stdout",
     "output_type": "stream",
     "text": [
      "Z_2 Distribution (%):\n",
      "mod_classes\n",
      " 0  1 \n",
      "58 42 \n",
      "\n",
      "Z_3 Distribution (%):\n",
      "mod_classes\n",
      " 0  1  2 \n",
      "37 36 27 \n",
      "\n",
      "Z_5 Distribution (%):\n",
      "mod_classes\n",
      " 0  1  2  3  4 \n",
      "27 19 19 18 17 \n",
      "\n",
      "Z_7 Distribution (%):\n",
      "mod_classes\n",
      " 0  1  2  3  4  5  6 \n",
      "14 18 23 23  7  6  9 \n",
      "\n",
      "Z_11 Distribution (%):\n",
      "mod_classes\n",
      " 0  1  2  3  4  5  6  7  8  9 10 \n",
      " 8 10 13 10  7  6  9  6  8 10 13 \n",
      "\n"
     ]
    }
   ],
   "source": [
    "checkField <- function(randoms, x) {\n",
    "  primes <- generatePrimes(x)\n",
    "\n",
    "  results <- list()\n",
    "\n",
    "  for (n in primes) {\n",
    "    mod_classes <- randoms %% n\n",
    "    freq_table <- table(mod_classes) / length(randoms) * 100\n",
    "\n",
    "    results[[paste0(\"Z_\", n)]] <- freq_table\n",
    "  }\n",
    "\n",
    "  return(results)\n",
    "}\n",
    "\n",
    "mod_results <- checkField(randoms, x)\n",
    "\n",
    "for (field in names(mod_results)) {\n",
    "  cat(field, \"Distribution (%):\\n\")\n",
    "  print(mod_results[[field]])\n",
    "  cat(\"\\n\")\n",
    "}"
   ]
  }
 ],
 "metadata": {
  "kernelspec": {
   "display_name": "R",
   "language": "R",
   "name": "ir"
  },
  "language_info": {
   "codemirror_mode": "r",
   "file_extension": ".r",
   "mimetype": "text/x-r-source",
   "name": "R",
   "pygments_lexer": "r",
   "version": "4.4.2"
  }
 },
 "nbformat": 4,
 "nbformat_minor": 2
}
