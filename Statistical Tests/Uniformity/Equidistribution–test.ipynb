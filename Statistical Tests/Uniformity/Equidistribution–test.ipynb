{
 "cells": [
  {
   "cell_type": "markdown",
   "metadata": {},
   "source": [
    "## Equidistribution Test for Uniformity\n",
    "\n",
    "The **equidistribution test** evaluates uniformity by checking whether the **empirical mean** of a dataset matches the expected integral of a uniform distribution.\n",
    "\n",
    "For a truly uniform distribution over $[n,m]$, the expected mean is given by:\n",
    "\n",
    "$$\n",
    "E[X] = \\int_n^m x \\, dx = \\frac{1}{2} (m^2 - n^2)\n",
    "$$\n",
    "\n",
    "If we investigate over $[0,1]$, the expected mean is $E[X] = \\frac{1}{2}$.\n",
    "\n",
    "If the empirical mean of the dataset is close to this expected value, it suggests uniformity."
   ]
  },
  {
   "cell_type": "code",
   "execution_count": 1,
   "metadata": {
    "vscode": {
     "languageId": "r"
    }
   },
   "outputs": [
    {
     "name": "stderr",
     "output_type": "stream",
     "text": [
      "\n",
      "Attaching package: 'dplyr'\n",
      "\n",
      "\n",
      "The following objects are masked from 'package:stats':\n",
      "\n",
      "    filter, lag\n",
      "\n",
      "\n",
      "The following objects are masked from 'package:base':\n",
      "\n",
      "    intersect, setdiff, setequal, union\n",
      "\n",
      "\n",
      "-- \u001b[1mAttaching core tidyverse packages\u001b[22m ------------------------ tidyverse 2.0.0 --\n",
      "\u001b[32mv\u001b[39m \u001b[34mforcats  \u001b[39m 1.0.0     \u001b[32mv\u001b[39m \u001b[34mreadr    \u001b[39m 2.1.5\n",
      "\u001b[32mv\u001b[39m \u001b[34mggplot2  \u001b[39m 3.5.1     \u001b[32mv\u001b[39m \u001b[34mstringr  \u001b[39m 1.5.1\n",
      "\u001b[32mv\u001b[39m \u001b[34mlubridate\u001b[39m 1.9.3     \u001b[32mv\u001b[39m \u001b[34mtibble   \u001b[39m 3.2.1\n",
      "\u001b[32mv\u001b[39m \u001b[34mpurrr    \u001b[39m 1.0.2     \u001b[32mv\u001b[39m \u001b[34mtidyr    \u001b[39m 1.3.1\n",
      "-- \u001b[1mConflicts\u001b[22m ------------------------------------------ tidyverse_conflicts() --\n",
      "\u001b[31mx\u001b[39m \u001b[34mdplyr\u001b[39m::\u001b[32mfilter()\u001b[39m masks \u001b[34mstats\u001b[39m::filter()\n",
      "\u001b[31mx\u001b[39m \u001b[34mdplyr\u001b[39m::\u001b[32mlag()\u001b[39m    masks \u001b[34mstats\u001b[39m::lag()\n",
      "\u001b[36mi\u001b[39m Use the conflicted package (\u001b[3m\u001b[34m<http://conflicted.r-lib.org/>\u001b[39m\u001b[23m) to force all conflicts to become errors\n"
     ]
    }
   ],
   "source": [
    "library(dplyr)\n",
    "library(tidyverse)"
   ]
  },
  {
   "cell_type": "markdown",
   "metadata": {},
   "source": [
    "### Loading the Data\n",
    "\n",
    "We load the random numbers from a CSV file to analyze their distribution."
   ]
  },
  {
   "cell_type": "code",
   "execution_count": 2,
   "metadata": {
    "vscode": {
     "languageId": "r"
    }
   },
   "outputs": [],
   "source": [
    "randoms <- read.csv(\"../../Data/randoms2.csv\")$n\n",
    "\n",
    "max_val <- 10\n",
    "min_val <- 0"
   ]
  },
  {
   "cell_type": "markdown",
   "metadata": {},
   "source": [
    "### Scaling the Data\n",
    "\n",
    "Since the equidistribution test assumes values in the range $[0,1]$, we scale the data to this range."
   ]
  },
  {
   "cell_type": "code",
   "execution_count": 3,
   "metadata": {
    "vscode": {
     "languageId": "r"
    }
   },
   "outputs": [],
   "source": [
    "randoms_scaled <- (randoms - min(randoms)) / (max(randoms) - min(randoms))"
   ]
  },
  {
   "cell_type": "markdown",
   "metadata": {},
   "source": [
    "### Computing the Empirical Mean\n",
    "\n",
    "We compute the empirical mean of the dataset:\n",
    "\n",
    "$$\n",
    "\\bar{X} = \\frac{1}{n} \\sum_{i=1}^{n} X_i\n",
    "$$"
   ]
  },
  {
   "cell_type": "code",
   "execution_count": 4,
   "metadata": {
    "vscode": {
     "languageId": "r"
    }
   },
   "outputs": [
    {
     "name": "stdout",
     "output_type": "stream",
     "text": [
      "Empirical mean for randoms (scaled to [0,1]): 0.504"
     ]
    }
   ],
   "source": [
    "empirical_mean <- function(x){\n",
    "  return(mean(x))\n",
    "}\n",
    "\n",
    "empirical_mean_val <- empirical_mean(randoms_scaled)\n",
    "cat(\"Empirical mean for randoms (scaled to [0,1]):\", empirical_mean_val)"
   ]
  },
  {
   "cell_type": "markdown",
   "metadata": {},
   "source": [
    "### Expected Mean from the Uniform Distribution\n",
    "\n",
    "For a uniform distribution $U(0,1)$, the expected mean is:\n",
    "\n",
    "$$\n",
    "E[X] = \\int_0^1 x \\, dx = 0.5\n",
    "$$\n",
    "\n",
    "We define this as a function."
   ]
  },
  {
   "cell_type": "code",
   "execution_count": 5,
   "metadata": {
    "vscode": {
     "languageId": "r"
    }
   },
   "outputs": [
    {
     "name": "stdout",
     "output_type": "stream",
     "text": [
      "Expected integral value of f(x) = x over [0,1]: 0.5"
     ]
    }
   ],
   "source": [
    "integral_f <- function() {\n",
    "  return(0.5)\n",
    "}\n",
    "\n",
    "cat(\"Expected integral value of f(x) = x over [0,1]:\", integral_f())"
   ]
  },
  {
   "cell_type": "markdown",
   "metadata": {},
   "source": [
    "### Computing the Difference\n",
    "\n",
    "We calculate the absolute difference between the empirical mean and the expected mean."
   ]
  },
  {
   "cell_type": "code",
   "execution_count": 6,
   "metadata": {
    "vscode": {
     "languageId": "r"
    }
   },
   "outputs": [
    {
     "name": "stdout",
     "output_type": "stream",
     "text": [
      "Difference for randoms: 0.004"
     ]
    }
   ],
   "source": [
    "diff <- abs(empirical_mean_val - integral_f())\n",
    "\n",
    "cat(\"Difference for randoms:\", diff)"
   ]
  },
  {
   "cell_type": "markdown",
   "metadata": {},
   "source": [
    "## Interpretation of the Equidistribution Test Results\n",
    "\n",
    "- If the empirical mean is **close to 0.5**, the dataset is likely uniform.\n",
    "- If the empirical mean **deviates significantly** from 0.5, the data may not be uniformly distributed.\n",
    "- The **absolute difference** quantifies the deviation from uniformity. A smaller value suggests a more uniform distribution."
   ]
  }
 ],
 "metadata": {
  "kernelspec": {
   "display_name": "R",
   "language": "R",
   "name": "ir"
  },
  "language_info": {
   "codemirror_mode": "r",
   "file_extension": ".r",
   "mimetype": "text/x-r-source",
   "name": "R",
   "pygments_lexer": "r",
   "version": "4.4.2"
  }
 },
 "nbformat": 4,
 "nbformat_minor": 2
}
