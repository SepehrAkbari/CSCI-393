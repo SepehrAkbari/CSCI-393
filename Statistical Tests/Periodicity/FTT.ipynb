{
 "cells": [
  {
   "cell_type": "markdown",
   "metadata": {},
   "source": [
    "## Notes\n",
    "\n",
    "Fourier transform for Periodicity:\n",
    "\n",
    "1. **Data Representation**\n",
    "\n",
    "We'll consider a time series dataset  $x(t)$, where $t$ represents time and $x(t)$ represents the observed values at time $t$. The goal is to identify if there are periodic components in  $x(t)$, and if so, to determine their frequencies.\n",
    "\n",
    "2. **Fourier Transform (FT)**\n",
    "\n",
    "The Fourier transform decomposes the **signal**  $x(t)$  into a sum of sinusoidal functions (sines and cosines) with different frequencies, amplitudes, and phases. The continuous Fourier transform of  $x(t)$  is given by:\n",
    "\n",
    "$$\n",
    "X(f) = \\int_{-\\infty}^{\\infty} x(t) e^{-i 2 \\pi f t} dt\n",
    "$$\n",
    "\n",
    "Where:\n",
    "- $X(f)$  is the Fourier transform of  $x(t)$,\n",
    "- $f$  is the frequency (in Hz),\n",
    "- $e^{-i 2 \\pi f t}$  represents the complex sinusoidal functions.\n",
    "\n",
    "The result,  $X(f)$ , is a complex-valued function where the magnitude  $|X(f)|$  represents the amplitude of the frequency component at  $f$ , and the phase of  $X(f)$  corresponds to the phase shift of that frequency component.\n",
    "\n",
    "3. **Discrete Fourier Transform (DFT)**\n",
    "\n",
    "For a discrete dataset  $x(t_1), x(t_2), \\dots, x(t_N)$ , the continuous Fourier transform is approximated by the Discrete Fourier Transform (DFT), which is computed as:\n",
    "\n",
    "\n",
    "$$X_k = \\sum_{n=0}^{N-1} x_n e^{-i 2 \\pi k n / N}$$\n",
    "\n",
    "Where:\n",
    "- $X_k$  is the DFT at frequency index  $k$ ,\n",
    "- $x_n$  is the value of the dataset at the  $n$-th time point,\n",
    "- $N$  is the number of data points,\n",
    "- $k$  is the index corresponding to frequency  $f_k = \\frac{k}{T}$ , where  $T$  is the total length of the time series.\n",
    "\n",
    "4. Magnitude Spectrum\n",
    "\n",
    "The magnitude of each frequency component,  $|X_k|$ , represents the strength of that frequency in the dataset. To identify periodicity, we focus on the frequencies with the largest magnitudes, as these correspond to the most dominant periodic components in the signal.\n",
    "\n",
    "\n",
    "$$|X_k| = \\sqrt{\\text{Re}(X_k)^2 + \\text{Im}(X_k)^2}$$\n",
    "\n",
    "\n",
    "Where  $\\text{Re}(X_k)$  and  $\\text{Im}(X_k)$  are the real and imaginary parts of  $X_k$ , respectively.\n",
    "\n",
    "5. **Periodicity**\n",
    "\n",
    "The frequencies corresponding to peaks in the magnitude spectrum  $|X_k|$  indicate the periodic components of the signal. A peak at frequency  $f_k$  corresponds to a periodic component with period  $T_k = \\frac{1}{f_k}$ . The most significant peak corresponds to the fundamental frequency, and the corresponding period is the dominant period in the dataset.\n",
    "\n",
    "6. **Periodicity Evaluation**\n",
    "\n",
    "By analyzing the frequency spectrum:\n",
    "\n",
    "- Peak Frequencies: The locations of the peaks in the frequency spectrum identify the periodic components.\n",
    "- Dominant Period: The inverse of the frequency of the highest peak provides the dominant period of the dataset.\n",
    "- Harmonics: Other peaks at integer multiples of the dominant frequency may indicate harmonics of the main periodic component."
   ]
  },
  {
   "cell_type": "markdown",
   "metadata": {},
   "source": [
    "### Summary (what i understand)\n",
    "\n",
    "Fourier Transform, breaks down the dataset into different frequency components (like sine waves of different speeds). Then we calculate how strong each frequency component is. The frequencies with the highest strengths (peaks) are the main periodic components in the data. The dominant frequency corresponds to the period (how long it takes to repeat) of the most noticeable pattern in the dataset."
   ]
  }
 ],
 "metadata": {
  "kernelspec": {
   "display_name": "Python 3",
   "language": "python",
   "name": "python3"
  },
  "language_info": {
   "codemirror_mode": {
    "name": "ipython",
    "version": 3
   },
   "file_extension": ".py",
   "mimetype": "text/x-python",
   "name": "python",
   "nbconvert_exporter": "python",
   "pygments_lexer": "ipython3",
   "version": "3.10.7"
  }
 },
 "nbformat": 4,
 "nbformat_minor": 2
}
