{
 "cells": [
  {
   "cell_type": "code",
   "execution_count": 1,
   "metadata": {},
   "outputs": [],
   "source": [
    "import qiskit\n",
    "from qiskit_ibm_runtime import QiskitRuntimeService"
   ]
  },
  {
   "cell_type": "code",
   "execution_count": 2,
   "metadata": {},
   "outputs": [
    {
     "data": {
      "text/plain": [
       "'1.3.1'"
      ]
     },
     "execution_count": 2,
     "metadata": {},
     "output_type": "execute_result"
    }
   ],
   "source": [
    "qiskit.__version__"
   ]
  },
  {
   "cell_type": "code",
   "execution_count": 3,
   "metadata": {},
   "outputs": [],
   "source": [
    "service = QiskitRuntimeService(channel = \"ibm_quantum\",\n",
    "                              token = \"0767e7633f41c2feb71447e8105930ecd2ad267c9401e24132cdc141b1eedbf036677cc2ddf80e16e94dc053377a978d6f376667424e7cfe5ad5bdfc60e79c4c\")"
   ]
  },
  {
   "cell_type": "code",
   "execution_count": 4,
   "metadata": {},
   "outputs": [],
   "source": [
    "QiskitRuntimeService.save_account(channel='ibm_quantum',\n",
    "                                  token = '0767e7633f41c2feb71447e8105930ecd2ad267c9401e24132cdc141b1eedbf036677cc2ddf80e16e94dc053377a978d6f376667424e7cfe5ad5bdfc60e79c4c',\n",
    "                                  overwrite = True)"
   ]
  },
  {
   "cell_type": "code",
   "execution_count": 5,
   "metadata": {},
   "outputs": [],
   "source": [
    "backend = service.backend(name = \"ibm_brisbane\")"
   ]
  },
  {
   "cell_type": "code",
   "execution_count": 6,
   "metadata": {},
   "outputs": [
    {
     "data": {
      "text/plain": [
       "127"
      ]
     },
     "execution_count": 6,
     "metadata": {},
     "output_type": "execute_result"
    }
   ],
   "source": [
    "backend.num_qubits"
   ]
  }
 ],
 "metadata": {
  "kernelspec": {
   "display_name": "csci393",
   "language": "python",
   "name": "python3"
  },
  "language_info": {
   "codemirror_mode": {
    "name": "ipython",
    "version": 3
   },
   "file_extension": ".py",
   "mimetype": "text/x-python",
   "name": "python",
   "nbconvert_exporter": "python",
   "pygments_lexer": "ipython3",
   "version": "3.13.1"
  }
 },
 "nbformat": 4,
 "nbformat_minor": 2
}
